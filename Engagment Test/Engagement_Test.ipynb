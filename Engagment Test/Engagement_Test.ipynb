{
 "cells": [
  {
   "cell_type": "markdown",
   "metadata": {},
   "source": [
    "## Engagement Level Test\n",
    "\n",
    "### Business Problem\n",
    "\n",
    "A social network company decided to add a feature called: Recommended Friends, i.e. they suggest people you may know.\n",
    "\n",
    "A data scientist has built a model to suggest 5 people to each user. These potential friends will be shown on the user newsfeed. At ﬁrst, the model is tested just on a random subset of users to see how it performs compared to the newsfeed without the new feature.\n",
    "\n",
    "The test has been running for some time and your boss asks you to check the results. You are asked to check, for each user, the number of pages visited during their ﬁrst session since the test started. If this number increased, the test is a success."
   ]
  },
  {
   "cell_type": "markdown",
   "metadata": {},
   "source": [
    "#### Load Dataset"
   ]
  },
  {
   "cell_type": "code",
   "execution_count": 1,
   "metadata": {},
   "outputs": [],
   "source": [
    "import warnings\n",
    "warnings.simplefilter('ignore')\n",
    "\n",
    "import numpy as np\n",
    "import pandas as pd\n",
    "import seaborn as sns\n",
    "import matplotlib.pyplot as plt\n",
    "from scipy.stats import ttest_ind\n",
    "\n",
    "%matplotlib inline"
   ]
  },
  {
   "cell_type": "code",
   "execution_count": 2,
   "metadata": {},
   "outputs": [
    {
     "data": {
      "text/html": [
       "<div>\n",
       "<style scoped>\n",
       "    .dataframe tbody tr th:only-of-type {\n",
       "        vertical-align: middle;\n",
       "    }\n",
       "\n",
       "    .dataframe tbody tr th {\n",
       "        vertical-align: top;\n",
       "    }\n",
       "\n",
       "    .dataframe thead th {\n",
       "        text-align: right;\n",
       "    }\n",
       "</style>\n",
       "<table border=\"1\" class=\"dataframe\">\n",
       "  <thead>\n",
       "    <tr style=\"text-align: right;\">\n",
       "      <th></th>\n",
       "      <th>user_id</th>\n",
       "      <th>signup_date</th>\n",
       "    </tr>\n",
       "  </thead>\n",
       "  <tbody>\n",
       "    <tr>\n",
       "      <th>0</th>\n",
       "      <td>34</td>\n",
       "      <td>2015-01-01</td>\n",
       "    </tr>\n",
       "    <tr>\n",
       "      <th>1</th>\n",
       "      <td>59</td>\n",
       "      <td>2015-01-01</td>\n",
       "    </tr>\n",
       "    <tr>\n",
       "      <th>2</th>\n",
       "      <td>178</td>\n",
       "      <td>2015-01-01</td>\n",
       "    </tr>\n",
       "    <tr>\n",
       "      <th>3</th>\n",
       "      <td>285</td>\n",
       "      <td>2015-01-01</td>\n",
       "    </tr>\n",
       "    <tr>\n",
       "      <th>4</th>\n",
       "      <td>383</td>\n",
       "      <td>2015-01-01</td>\n",
       "    </tr>\n",
       "  </tbody>\n",
       "</table>\n",
       "</div>"
      ],
      "text/plain": [
       "   user_id signup_date\n",
       "0       34  2015-01-01\n",
       "1       59  2015-01-01\n",
       "2      178  2015-01-01\n",
       "3      285  2015-01-01\n",
       "4      383  2015-01-01"
      ]
     },
     "execution_count": 2,
     "metadata": {},
     "output_type": "execute_result"
    }
   ],
   "source": [
    "user = pd.read_csv(\"user_table.csv\",parse_dates = [\"signup_date\"])\n",
    "user.head()"
   ]
  },
  {
   "cell_type": "code",
   "execution_count": 3,
   "metadata": {},
   "outputs": [
    {
     "data": {
      "text/html": [
       "<div>\n",
       "<style scoped>\n",
       "    .dataframe tbody tr th:only-of-type {\n",
       "        vertical-align: middle;\n",
       "    }\n",
       "\n",
       "    .dataframe tbody tr th {\n",
       "        vertical-align: top;\n",
       "    }\n",
       "\n",
       "    .dataframe thead th {\n",
       "        text-align: right;\n",
       "    }\n",
       "</style>\n",
       "<table border=\"1\" class=\"dataframe\">\n",
       "  <thead>\n",
       "    <tr style=\"text-align: right;\">\n",
       "      <th></th>\n",
       "      <th>user_id</th>\n",
       "      <th>date</th>\n",
       "      <th>browser</th>\n",
       "      <th>test</th>\n",
       "      <th>pages_visited</th>\n",
       "    </tr>\n",
       "  </thead>\n",
       "  <tbody>\n",
       "    <tr>\n",
       "      <th>0</th>\n",
       "      <td>600597</td>\n",
       "      <td>2015-08-13</td>\n",
       "      <td>IE</td>\n",
       "      <td>0</td>\n",
       "      <td>2</td>\n",
       "    </tr>\n",
       "    <tr>\n",
       "      <th>1</th>\n",
       "      <td>4410028</td>\n",
       "      <td>2015-08-26</td>\n",
       "      <td>Chrome</td>\n",
       "      <td>1</td>\n",
       "      <td>5</td>\n",
       "    </tr>\n",
       "    <tr>\n",
       "      <th>2</th>\n",
       "      <td>6004777</td>\n",
       "      <td>2015-08-17</td>\n",
       "      <td>Chrome</td>\n",
       "      <td>0</td>\n",
       "      <td>8</td>\n",
       "    </tr>\n",
       "    <tr>\n",
       "      <th>3</th>\n",
       "      <td>5990330</td>\n",
       "      <td>2015-08-27</td>\n",
       "      <td>Safari</td>\n",
       "      <td>0</td>\n",
       "      <td>8</td>\n",
       "    </tr>\n",
       "    <tr>\n",
       "      <th>4</th>\n",
       "      <td>3622310</td>\n",
       "      <td>2015-08-07</td>\n",
       "      <td>Firefox</td>\n",
       "      <td>0</td>\n",
       "      <td>1</td>\n",
       "    </tr>\n",
       "  </tbody>\n",
       "</table>\n",
       "</div>"
      ],
      "text/plain": [
       "   user_id       date  browser  test  pages_visited\n",
       "0   600597 2015-08-13       IE     0              2\n",
       "1  4410028 2015-08-26   Chrome     1              5\n",
       "2  6004777 2015-08-17   Chrome     0              8\n",
       "3  5990330 2015-08-27   Safari     0              8\n",
       "4  3622310 2015-08-07  Firefox     0              1"
      ]
     },
     "execution_count": 3,
     "metadata": {},
     "output_type": "execute_result"
    }
   ],
   "source": [
    "test = pd.read_csv(\"test_table.csv\",parse_dates = ['date'])\n",
    "test.head()"
   ]
  },
  {
   "cell_type": "code",
   "execution_count": 4,
   "metadata": {},
   "outputs": [
    {
     "name": "stdout",
     "output_type": "stream",
     "text": [
      "<class 'pandas.core.frame.DataFrame'>\n",
      "RangeIndex: 100000 entries, 0 to 99999\n",
      "Data columns (total 2 columns):\n",
      " #   Column       Non-Null Count   Dtype         \n",
      "---  ------       --------------   -----         \n",
      " 0   user_id      100000 non-null  int64         \n",
      " 1   signup_date  100000 non-null  datetime64[ns]\n",
      "dtypes: datetime64[ns](1), int64(1)\n",
      "memory usage: 1.5 MB\n"
     ]
    }
   ],
   "source": [
    "user.info()"
   ]
  },
  {
   "cell_type": "code",
   "execution_count": 5,
   "metadata": {},
   "outputs": [
    {
     "data": {
      "text/plain": [
       "100000"
      ]
     },
     "execution_count": 5,
     "metadata": {},
     "output_type": "execute_result"
    }
   ],
   "source": [
    "len(user.user_id.unique())"
   ]
  },
  {
   "cell_type": "code",
   "execution_count": 6,
   "metadata": {},
   "outputs": [
    {
     "name": "stdout",
     "output_type": "stream",
     "text": [
      "<class 'pandas.core.frame.DataFrame'>\n",
      "RangeIndex: 100000 entries, 0 to 99999\n",
      "Data columns (total 5 columns):\n",
      " #   Column         Non-Null Count   Dtype         \n",
      "---  ------         --------------   -----         \n",
      " 0   user_id        100000 non-null  int64         \n",
      " 1   date           100000 non-null  datetime64[ns]\n",
      " 2   browser        100000 non-null  object        \n",
      " 3   test           100000 non-null  int64         \n",
      " 4   pages_visited  100000 non-null  int64         \n",
      "dtypes: datetime64[ns](1), int64(3), object(1)\n",
      "memory usage: 3.8+ MB\n"
     ]
    }
   ],
   "source": [
    "test.info()"
   ]
  },
  {
   "cell_type": "code",
   "execution_count": 7,
   "metadata": {},
   "outputs": [],
   "source": [
    "data = pd.merge(test,user,on=\"user_id\",how = \"left\")"
   ]
  },
  {
   "cell_type": "code",
   "execution_count": 9,
   "metadata": {},
   "outputs": [
    {
     "data": {
      "text/html": [
       "<div>\n",
       "<style scoped>\n",
       "    .dataframe tbody tr th:only-of-type {\n",
       "        vertical-align: middle;\n",
       "    }\n",
       "\n",
       "    .dataframe tbody tr th {\n",
       "        vertical-align: top;\n",
       "    }\n",
       "\n",
       "    .dataframe thead th {\n",
       "        text-align: right;\n",
       "    }\n",
       "</style>\n",
       "<table border=\"1\" class=\"dataframe\">\n",
       "  <thead>\n",
       "    <tr style=\"text-align: right;\">\n",
       "      <th></th>\n",
       "      <th>user_id</th>\n",
       "      <th>date</th>\n",
       "      <th>browser</th>\n",
       "      <th>test</th>\n",
       "      <th>pages_visited</th>\n",
       "      <th>signup_date</th>\n",
       "    </tr>\n",
       "  </thead>\n",
       "  <tbody>\n",
       "    <tr>\n",
       "      <th>0</th>\n",
       "      <td>600597</td>\n",
       "      <td>2015-08-13</td>\n",
       "      <td>IE</td>\n",
       "      <td>0</td>\n",
       "      <td>2</td>\n",
       "      <td>2015-01-19</td>\n",
       "    </tr>\n",
       "    <tr>\n",
       "      <th>1</th>\n",
       "      <td>4410028</td>\n",
       "      <td>2015-08-26</td>\n",
       "      <td>Chrome</td>\n",
       "      <td>1</td>\n",
       "      <td>5</td>\n",
       "      <td>2015-05-11</td>\n",
       "    </tr>\n",
       "    <tr>\n",
       "      <th>2</th>\n",
       "      <td>6004777</td>\n",
       "      <td>2015-08-17</td>\n",
       "      <td>Chrome</td>\n",
       "      <td>0</td>\n",
       "      <td>8</td>\n",
       "      <td>2015-06-26</td>\n",
       "    </tr>\n",
       "    <tr>\n",
       "      <th>3</th>\n",
       "      <td>5990330</td>\n",
       "      <td>2015-08-27</td>\n",
       "      <td>Safari</td>\n",
       "      <td>0</td>\n",
       "      <td>8</td>\n",
       "      <td>2015-06-25</td>\n",
       "    </tr>\n",
       "    <tr>\n",
       "      <th>4</th>\n",
       "      <td>3622310</td>\n",
       "      <td>2015-08-07</td>\n",
       "      <td>Firefox</td>\n",
       "      <td>0</td>\n",
       "      <td>1</td>\n",
       "      <td>2015-04-17</td>\n",
       "    </tr>\n",
       "  </tbody>\n",
       "</table>\n",
       "</div>"
      ],
      "text/plain": [
       "   user_id       date  browser  test  pages_visited signup_date\n",
       "0   600597 2015-08-13       IE     0              2  2015-01-19\n",
       "1  4410028 2015-08-26   Chrome     1              5  2015-05-11\n",
       "2  6004777 2015-08-17   Chrome     0              8  2015-06-26\n",
       "3  5990330 2015-08-27   Safari     0              8  2015-06-25\n",
       "4  3622310 2015-08-07  Firefox     0              1  2015-04-17"
      ]
     },
     "execution_count": 9,
     "metadata": {},
     "output_type": "execute_result"
    }
   ],
   "source": [
    "data.head()"
   ]
  },
  {
   "cell_type": "code",
   "execution_count": 8,
   "metadata": {},
   "outputs": [
    {
     "data": {
      "text/plain": [
       "user_id          0\n",
       "date             0\n",
       "browser          0\n",
       "test             0\n",
       "pages_visited    0\n",
       "signup_date      0\n",
       "dtype: int64"
      ]
     },
     "execution_count": 8,
     "metadata": {},
     "output_type": "execute_result"
    }
   ],
   "source": [
    "data.isnull().sum()"
   ]
  },
  {
   "cell_type": "markdown",
   "metadata": {},
   "source": [
    "### Feature Engineering\n",
    "\n",
    "Add a new feature called new_user based on signup_date."
   ]
  },
  {
   "cell_type": "code",
   "execution_count": 29,
   "metadata": {},
   "outputs": [
    {
     "data": {
      "text/html": [
       "<div>\n",
       "<style scoped>\n",
       "    .dataframe tbody tr th:only-of-type {\n",
       "        vertical-align: middle;\n",
       "    }\n",
       "\n",
       "    .dataframe tbody tr th {\n",
       "        vertical-align: top;\n",
       "    }\n",
       "\n",
       "    .dataframe thead th {\n",
       "        text-align: right;\n",
       "    }\n",
       "</style>\n",
       "<table border=\"1\" class=\"dataframe\">\n",
       "  <thead>\n",
       "    <tr style=\"text-align: right;\">\n",
       "      <th></th>\n",
       "      <th>user_id</th>\n",
       "      <th>date</th>\n",
       "      <th>browser</th>\n",
       "      <th>test</th>\n",
       "      <th>pages_visited</th>\n",
       "      <th>signup_date</th>\n",
       "      <th>sign_days</th>\n",
       "      <th>new_user</th>\n",
       "    </tr>\n",
       "  </thead>\n",
       "  <tbody>\n",
       "    <tr>\n",
       "      <th>0</th>\n",
       "      <td>600597</td>\n",
       "      <td>2015-08-13</td>\n",
       "      <td>IE</td>\n",
       "      <td>0</td>\n",
       "      <td>2</td>\n",
       "      <td>2015-01-19</td>\n",
       "      <td>206</td>\n",
       "      <td>0</td>\n",
       "    </tr>\n",
       "    <tr>\n",
       "      <th>1</th>\n",
       "      <td>4410028</td>\n",
       "      <td>2015-08-26</td>\n",
       "      <td>Chrome</td>\n",
       "      <td>1</td>\n",
       "      <td>5</td>\n",
       "      <td>2015-05-11</td>\n",
       "      <td>107</td>\n",
       "      <td>0</td>\n",
       "    </tr>\n",
       "    <tr>\n",
       "      <th>2</th>\n",
       "      <td>6004777</td>\n",
       "      <td>2015-08-17</td>\n",
       "      <td>Chrome</td>\n",
       "      <td>0</td>\n",
       "      <td>8</td>\n",
       "      <td>2015-06-26</td>\n",
       "      <td>52</td>\n",
       "      <td>0</td>\n",
       "    </tr>\n",
       "    <tr>\n",
       "      <th>3</th>\n",
       "      <td>5990330</td>\n",
       "      <td>2015-08-27</td>\n",
       "      <td>Safari</td>\n",
       "      <td>0</td>\n",
       "      <td>8</td>\n",
       "      <td>2015-06-25</td>\n",
       "      <td>63</td>\n",
       "      <td>0</td>\n",
       "    </tr>\n",
       "    <tr>\n",
       "      <th>4</th>\n",
       "      <td>3622310</td>\n",
       "      <td>2015-08-07</td>\n",
       "      <td>Firefox</td>\n",
       "      <td>0</td>\n",
       "      <td>1</td>\n",
       "      <td>2015-04-17</td>\n",
       "      <td>112</td>\n",
       "      <td>0</td>\n",
       "    </tr>\n",
       "  </tbody>\n",
       "</table>\n",
       "</div>"
      ],
      "text/plain": [
       "   user_id       date  browser  test  pages_visited signup_date  sign_days  \\\n",
       "0   600597 2015-08-13       IE     0              2  2015-01-19        206   \n",
       "1  4410028 2015-08-26   Chrome     1              5  2015-05-11        107   \n",
       "2  6004777 2015-08-17   Chrome     0              8  2015-06-26         52   \n",
       "3  5990330 2015-08-27   Safari     0              8  2015-06-25         63   \n",
       "4  3622310 2015-08-07  Firefox     0              1  2015-04-17        112   \n",
       "\n",
       "   new_user  \n",
       "0         0  \n",
       "1         0  \n",
       "2         0  \n",
       "3         0  \n",
       "4         0  "
      ]
     },
     "execution_count": 29,
     "metadata": {},
     "output_type": "execute_result"
    }
   ],
   "source": [
    "data['sign_days'] = (data.date - data.signup_date).dt.days\n",
    "data['new_user'] = (data.sign_days == 0).astype(int)\n",
    "data.head()"
   ]
  },
  {
   "cell_type": "code",
   "execution_count": 34,
   "metadata": {},
   "outputs": [
    {
     "data": {
      "text/plain": [
       "79999"
      ]
     },
     "execution_count": 34,
     "metadata": {},
     "output_type": "execute_result"
    }
   ],
   "source": [
    "len(data[data.new_user == 0])"
   ]
  },
  {
   "cell_type": "markdown",
   "metadata": {},
   "source": [
    "# Question 1\n",
    "Is the test winning? That is, should 100% of the users see the Recommended Friends feature?\n",
    "\n",
    "Let's look at mean number of pages visited by test and control group."
   ]
  },
  {
   "cell_type": "code",
   "execution_count": 13,
   "metadata": {},
   "outputs": [
    {
     "data": {
      "text/plain": [
       "4.608393853067447"
      ]
     },
     "execution_count": 13,
     "metadata": {},
     "output_type": "execute_result"
    }
   ],
   "source": [
    "grouped_control = data[data['test'] == 0]\n",
    "grouped_control['pages_visited'].mean()"
   ]
  },
  {
   "cell_type": "code",
   "execution_count": 14,
   "metadata": {},
   "outputs": [
    {
     "data": {
      "text/plain": [
       "4.599692945727161"
      ]
     },
     "execution_count": 14,
     "metadata": {},
     "output_type": "execute_result"
    }
   ],
   "source": [
    "grouped_test = data[data['test'] == 1]\n",
    "grouped_test['pages_visited'].mean()"
   ]
  },
  {
   "cell_type": "markdown",
   "metadata": {},
   "source": [
    "Mean number of pages visited looks the same for both test and control group."
   ]
  },
  {
   "cell_type": "code",
   "execution_count": 15,
   "metadata": {},
   "outputs": [
    {
     "data": {
      "image/png": "[encoded data removed]",
      "text/plain": [
       "<Figure size 576x360 with 1 Axes>"
      ]
     },
     "metadata": {
      "needs_background": "light"
     },
     "output_type": "display_data"
    }
   ],
   "source": [
    "fig, ax = plt.subplots(figsize=(8, 5))\n",
    "sns.barplot(x='test', y='pages_visited', data=data, ax=ax)\n",
    "plt.tight_layout()\n",
    "plt.show()"
   ]
  },
  {
   "cell_type": "markdown",
   "metadata": {},
   "source": [
    "I will conduct a ***Paired T-test*** at 0.05 significance level to conclude if the experiment was successful or not.\n",
    "\n",
    "Control Group: People who were not exposed to the new feature in the newsfeed\n",
    "Test Group: People who were exposed to the new feature in the newsfeed\n",
    "\n",
    "Null Hypothesis: There is no difference in the number of pages visited by the two groups\n",
    "Alternate Hypothesis: There is difference in the number of pages visited by the two groups\n",
    "\n",
    "There are 49,846 users in the group group and 50,154 users in the test group. Variances are not equal."
   ]
  },
  {
   "cell_type": "code",
   "execution_count": 19,
   "metadata": {},
   "outputs": [
    {
     "name": "stdout",
     "output_type": "stream",
     "text": [
      "2.2046745991089884\n",
      "2.7069106459565164\n",
      "49846\n",
      "50154\n"
     ]
    },
    {
     "data": {
      "text/plain": [
       "(None, None)"
      ]
     },
     "execution_count": 19,
     "metadata": {},
     "output_type": "execute_result"
    }
   ],
   "source": [
    "# perform student's t-test\n",
    "control_page = grouped_control['pages_visited'].values\n",
    "experiment_page = grouped_test['pages_visited'].values\n",
    "\n",
    "print(np.std(grouped_test['pages_visited'].values))\n",
    "print(np.std(grouped_control['pages_visited'].values))\n",
    "\n",
    "print(grouped_control.shape[0]),print(grouped_test.shape[0])"
   ]
  },
  {
   "cell_type": "markdown",
   "metadata": {},
   "source": [
    "We can see p-value = 0.577 at 0.05 significance level.Hence, we do not have enough evidence to reject null hypothesis. The number of pages visited by both the groups is not significantly different."
   ]
  },
  {
   "cell_type": "code",
   "execution_count": 20,
   "metadata": {},
   "outputs": [
    {
     "name": "stdout",
     "output_type": "stream",
     "text": [
      "T-test:\t Ttest_indResult(statistic=0.5571118435554797, pvalue=0.5774523171559118)\n"
     ]
    }
   ],
   "source": [
    "print('T-test:\\t', ttest_ind(a=control_page, b=experiment_page, equal_var=False))"
   ]
  },
  {
   "cell_type": "markdown",
   "metadata": {},
   "source": [
    "We can create t-test function that will be used later."
   ]
  },
  {
   "cell_type": "code",
   "execution_count": 22,
   "metadata": {},
   "outputs": [],
   "source": [
    "def run_ttest(df):\n",
    "    vp_in_test = df.loc[data.test == 1, 'pages_visited']\n",
    "    test_mean = vp_in_test.mean()\n",
    "    \n",
    "    vp_in_ctrl = df.loc[data.test == 0, 'pages_visited']\n",
    "    ctrl_mean = vp_in_ctrl.mean()\n",
    "    \n",
    "    result = ttest_ind(vp_in_ctrl, vp_in_test, equal_var=False)\n",
    "    conclusion = 'Significant' if result.pvalue < 0.05 else 'Not Significant'\n",
    "    \n",
    "    return pd.Series({'n_test':vp_in_test.shape[0],\n",
    "                      'n_ctrl': vp_in_ctrl.shape[0],\n",
    "                      'sum_pages_visited_test':vp_in_test.sum(),\n",
    "                      'sum_pages_visited_ctrl':vp_in_ctrl.sum(),\n",
    "                      'mean_test': test_mean,\n",
    "                      'mean_ctrl': ctrl_mean,\n",
    "                      'test-ctrl': test_mean - ctrl_mean,\n",
    "                      'pvalue':result.pvalue,\n",
    "                      'conclusion':conclusion})"
   ]
  },
  {
   "cell_type": "markdown",
   "metadata": {},
   "source": [
    "We can see that the test has been running for a month and it's still not significant."
   ]
  },
  {
   "cell_type": "code",
   "execution_count": 21,
   "metadata": {},
   "outputs": [
    {
     "data": {
      "text/plain": [
       "[numpy.datetime64('2015-08-01T00:00:00.000000000'),\n",
       " numpy.datetime64('2015-08-02T00:00:00.000000000'),\n",
       " numpy.datetime64('2015-08-03T00:00:00.000000000'),\n",
       " numpy.datetime64('2015-08-04T00:00:00.000000000'),\n",
       " numpy.datetime64('2015-08-05T00:00:00.000000000'),\n",
       " numpy.datetime64('2015-08-06T00:00:00.000000000'),\n",
       " numpy.datetime64('2015-08-07T00:00:00.000000000'),\n",
       " numpy.datetime64('2015-08-08T00:00:00.000000000'),\n",
       " numpy.datetime64('2015-08-09T00:00:00.000000000'),\n",
       " numpy.datetime64('2015-08-10T00:00:00.000000000'),\n",
       " numpy.datetime64('2015-08-11T00:00:00.000000000'),\n",
       " numpy.datetime64('2015-08-12T00:00:00.000000000'),\n",
       " numpy.datetime64('2015-08-13T00:00:00.000000000'),\n",
       " numpy.datetime64('2015-08-14T00:00:00.000000000'),\n",
       " numpy.datetime64('2015-08-15T00:00:00.000000000'),\n",
       " numpy.datetime64('2015-08-16T00:00:00.000000000'),\n",
       " numpy.datetime64('2015-08-17T00:00:00.000000000'),\n",
       " numpy.datetime64('2015-08-18T00:00:00.000000000'),\n",
       " numpy.datetime64('2015-08-19T00:00:00.000000000'),\n",
       " numpy.datetime64('2015-08-20T00:00:00.000000000'),\n",
       " numpy.datetime64('2015-08-21T00:00:00.000000000'),\n",
       " numpy.datetime64('2015-08-22T00:00:00.000000000'),\n",
       " numpy.datetime64('2015-08-23T00:00:00.000000000'),\n",
       " numpy.datetime64('2015-08-24T00:00:00.000000000'),\n",
       " numpy.datetime64('2015-08-25T00:00:00.000000000'),\n",
       " numpy.datetime64('2015-08-26T00:00:00.000000000'),\n",
       " numpy.datetime64('2015-08-27T00:00:00.000000000'),\n",
       " numpy.datetime64('2015-08-28T00:00:00.000000000'),\n",
       " numpy.datetime64('2015-08-29T00:00:00.000000000'),\n",
       " numpy.datetime64('2015-08-30T00:00:00.000000000'),\n",
       " numpy.datetime64('2015-08-31T00:00:00.000000000')]"
      ]
     },
     "execution_count": 21,
     "metadata": {},
     "output_type": "execute_result"
    }
   ],
   "source": [
    "#Test has been running for a month\n",
    "sorted(data.date.unique())"
   ]
  },
  {
   "cell_type": "markdown",
   "metadata": {},
   "source": [
    "# Question 2\n",
    "Is the test performing similarly for all user segments or are there differences among different segments?"
   ]
  },
  {
   "cell_type": "code",
   "execution_count": 23,
   "metadata": {},
   "outputs": [
    {
     "data": {
      "text/html": [
       "<div>\n",
       "<style scoped>\n",
       "    .dataframe tbody tr th:only-of-type {\n",
       "        vertical-align: middle;\n",
       "    }\n",
       "\n",
       "    .dataframe tbody tr th {\n",
       "        vertical-align: top;\n",
       "    }\n",
       "\n",
       "    .dataframe thead th {\n",
       "        text-align: right;\n",
       "    }\n",
       "</style>\n",
       "<table border=\"1\" class=\"dataframe\">\n",
       "  <thead>\n",
       "    <tr style=\"text-align: right;\">\n",
       "      <th></th>\n",
       "      <th>user_id</th>\n",
       "      <th>date</th>\n",
       "      <th>browser</th>\n",
       "      <th>test</th>\n",
       "      <th>pages_visited</th>\n",
       "      <th>signup_date</th>\n",
       "    </tr>\n",
       "  </thead>\n",
       "  <tbody>\n",
       "    <tr>\n",
       "      <th>0</th>\n",
       "      <td>600597</td>\n",
       "      <td>2015-08-13</td>\n",
       "      <td>IE</td>\n",
       "      <td>0</td>\n",
       "      <td>2</td>\n",
       "      <td>2015-01-19</td>\n",
       "    </tr>\n",
       "    <tr>\n",
       "      <th>1</th>\n",
       "      <td>4410028</td>\n",
       "      <td>2015-08-26</td>\n",
       "      <td>Chrome</td>\n",
       "      <td>1</td>\n",
       "      <td>5</td>\n",
       "      <td>2015-05-11</td>\n",
       "    </tr>\n",
       "    <tr>\n",
       "      <th>2</th>\n",
       "      <td>6004777</td>\n",
       "      <td>2015-08-17</td>\n",
       "      <td>Chrome</td>\n",
       "      <td>0</td>\n",
       "      <td>8</td>\n",
       "      <td>2015-06-26</td>\n",
       "    </tr>\n",
       "    <tr>\n",
       "      <th>3</th>\n",
       "      <td>5990330</td>\n",
       "      <td>2015-08-27</td>\n",
       "      <td>Safari</td>\n",
       "      <td>0</td>\n",
       "      <td>8</td>\n",
       "      <td>2015-06-25</td>\n",
       "    </tr>\n",
       "    <tr>\n",
       "      <th>4</th>\n",
       "      <td>3622310</td>\n",
       "      <td>2015-08-07</td>\n",
       "      <td>Firefox</td>\n",
       "      <td>0</td>\n",
       "      <td>1</td>\n",
       "      <td>2015-04-17</td>\n",
       "    </tr>\n",
       "  </tbody>\n",
       "</table>\n",
       "</div>"
      ],
      "text/plain": [
       "   user_id       date  browser  test  pages_visited signup_date\n",
       "0   600597 2015-08-13       IE     0              2  2015-01-19\n",
       "1  4410028 2015-08-26   Chrome     1              5  2015-05-11\n",
       "2  6004777 2015-08-17   Chrome     0              8  2015-06-26\n",
       "3  5990330 2015-08-27   Safari     0              8  2015-06-25\n",
       "4  3622310 2015-08-07  Firefox     0              1  2015-04-17"
      ]
     },
     "execution_count": 23,
     "metadata": {},
     "output_type": "execute_result"
    }
   ],
   "source": [
    "data.head()"
   ]
  },
  {
   "cell_type": "markdown",
   "metadata": {},
   "source": [
    "### Test results by Browser"
   ]
  },
  {
   "cell_type": "code",
   "execution_count": 24,
   "metadata": {},
   "outputs": [
    {
     "data": {
      "image/png": "[encoded data removed]",
      "text/plain": [
       "<Figure size 1296x432 with 2 Axes>"
      ]
     },
     "metadata": {
      "needs_background": "light"
     },
     "output_type": "display_data"
    }
   ],
   "source": [
    "fig, ax = plt.subplots(nrows=1, ncols=2, figsize=(18, 6))\n",
    "sns.countplot(x = 'browser',hue = 'test',data = data,ax = ax[0])\n",
    "ax[0].set_title('Count Plot of Browser', fontsize=16)\n",
    "\n",
    "sns.barplot(x = 'browser',y = 'pages_visited',hue = 'test',data = data,ax = ax[1])\n",
    "ax[1].set_title('Bar Plot of browser', fontsize=16)\n",
    "plt.tight_layout()\n",
    "plt.show()  "
   ]
  },
  {
   "cell_type": "markdown",
   "metadata": {},
   "source": [
    "We will apply t-test to the different browser groups i.e we will apply t-test to all chrome users and see if the test is significant or not."
   ]
  },
  {
   "cell_type": "code",
   "execution_count": 25,
   "metadata": {},
   "outputs": [
    {
     "data": {
      "text/html": [
       "<div>\n",
       "<style scoped>\n",
       "    .dataframe tbody tr th:only-of-type {\n",
       "        vertical-align: middle;\n",
       "    }\n",
       "\n",
       "    .dataframe tbody tr th {\n",
       "        vertical-align: top;\n",
       "    }\n",
       "\n",
       "    .dataframe thead th {\n",
       "        text-align: right;\n",
       "    }\n",
       "</style>\n",
       "<table border=\"1\" class=\"dataframe\">\n",
       "  <thead>\n",
       "    <tr style=\"text-align: right;\">\n",
       "      <th></th>\n",
       "      <th>n_test</th>\n",
       "      <th>n_ctrl</th>\n",
       "      <th>sum_pages_visited_test</th>\n",
       "      <th>sum_pages_visited_ctrl</th>\n",
       "      <th>mean_test</th>\n",
       "      <th>mean_ctrl</th>\n",
       "      <th>test-ctrl</th>\n",
       "      <th>pvalue</th>\n",
       "      <th>conclusion</th>\n",
       "    </tr>\n",
       "    <tr>\n",
       "      <th>browser</th>\n",
       "      <th></th>\n",
       "      <th></th>\n",
       "      <th></th>\n",
       "      <th></th>\n",
       "      <th></th>\n",
       "      <th></th>\n",
       "      <th></th>\n",
       "      <th></th>\n",
       "      <th></th>\n",
       "    </tr>\n",
       "  </thead>\n",
       "  <tbody>\n",
       "    <tr>\n",
       "      <th>Chrome</th>\n",
       "      <td>21974</td>\n",
       "      <td>21453</td>\n",
       "      <td>103073</td>\n",
       "      <td>98970</td>\n",
       "      <td>4.690680</td>\n",
       "      <td>4.613341</td>\n",
       "      <td>0.077339</td>\n",
       "      <td>9.434084e-04</td>\n",
       "      <td>Significant</td>\n",
       "    </tr>\n",
       "    <tr>\n",
       "      <th>Firefox</th>\n",
       "      <td>10786</td>\n",
       "      <td>10972</td>\n",
       "      <td>50848</td>\n",
       "      <td>50473</td>\n",
       "      <td>4.714259</td>\n",
       "      <td>4.600164</td>\n",
       "      <td>0.114095</td>\n",
       "      <td>5.817199e-04</td>\n",
       "      <td>Significant</td>\n",
       "    </tr>\n",
       "    <tr>\n",
       "      <th>IE</th>\n",
       "      <td>10974</td>\n",
       "      <td>10906</td>\n",
       "      <td>51424</td>\n",
       "      <td>50151</td>\n",
       "      <td>4.685985</td>\n",
       "      <td>4.598478</td>\n",
       "      <td>0.087507</td>\n",
       "      <td>7.829509e-03</td>\n",
       "      <td>Significant</td>\n",
       "    </tr>\n",
       "    <tr>\n",
       "      <th>Opera</th>\n",
       "      <td>1018</td>\n",
       "      <td>1109</td>\n",
       "      <td>0</td>\n",
       "      <td>5042</td>\n",
       "      <td>0.000000</td>\n",
       "      <td>4.546438</td>\n",
       "      <td>-4.546438</td>\n",
       "      <td>2.252939e-321</td>\n",
       "      <td>Significant</td>\n",
       "    </tr>\n",
       "    <tr>\n",
       "      <th>Safari</th>\n",
       "      <td>5402</td>\n",
       "      <td>5406</td>\n",
       "      <td>25348</td>\n",
       "      <td>25074</td>\n",
       "      <td>4.692336</td>\n",
       "      <td>4.638180</td>\n",
       "      <td>0.054156</td>\n",
       "      <td>2.411738e-01</td>\n",
       "      <td>Not Significant</td>\n",
       "    </tr>\n",
       "  </tbody>\n",
       "</table>\n",
       "</div>"
      ],
      "text/plain": [
       "         n_test  n_ctrl  sum_pages_visited_test  sum_pages_visited_ctrl  \\\n",
       "browser                                                                   \n",
       "Chrome    21974   21453                  103073                   98970   \n",
       "Firefox   10786   10972                   50848                   50473   \n",
       "IE        10974   10906                   51424                   50151   \n",
       "Opera      1018    1109                       0                    5042   \n",
       "Safari     5402    5406                   25348                   25074   \n",
       "\n",
       "         mean_test  mean_ctrl  test-ctrl         pvalue       conclusion  \n",
       "browser                                                                   \n",
       "Chrome    4.690680   4.613341   0.077339   9.434084e-04      Significant  \n",
       "Firefox   4.714259   4.600164   0.114095   5.817199e-04      Significant  \n",
       "IE        4.685985   4.598478   0.087507   7.829509e-03      Significant  \n",
       "Opera     0.000000   4.546438  -4.546438  2.252939e-321      Significant  \n",
       "Safari    4.692336   4.638180   0.054156   2.411738e-01  Not Significant  "
      ]
     },
     "execution_count": 25,
     "metadata": {},
     "output_type": "execute_result"
    }
   ],
   "source": [
    "data.groupby('browser').apply(run_ttest)"
   ]
  },
  {
   "cell_type": "markdown",
   "metadata": {},
   "source": [
    "#### Results\n",
    "\n",
    "We can see that,after applying this \"Recommend Friend\" feature\n",
    "1. page_visited in Chrome, Firefox, IE have significantly increased.\n",
    "2. page_visited in Opera has reduced to zero, maybe there is some bug in implementation on Opera, which stops users from visiting further pages.\n",
    "3. page_visited in Safari has no significant improvement, maybe because the recommended friends isn't shown in a noticeable position."
   ]
  },
  {
   "cell_type": "markdown",
   "metadata": {},
   "source": [
    "### Test results by first time to tenured customers"
   ]
  },
  {
   "cell_type": "code",
   "execution_count": 28,
   "metadata": {},
   "outputs": [
    {
     "data": {
      "text/html": [
       "<div>\n",
       "<style scoped>\n",
       "    .dataframe tbody tr th:only-of-type {\n",
       "        vertical-align: middle;\n",
       "    }\n",
       "\n",
       "    .dataframe tbody tr th {\n",
       "        vertical-align: top;\n",
       "    }\n",
       "\n",
       "    .dataframe thead th {\n",
       "        text-align: right;\n",
       "    }\n",
       "</style>\n",
       "<table border=\"1\" class=\"dataframe\">\n",
       "  <thead>\n",
       "    <tr style=\"text-align: right;\">\n",
       "      <th></th>\n",
       "      <th>user_id</th>\n",
       "      <th>date</th>\n",
       "      <th>browser</th>\n",
       "      <th>test</th>\n",
       "      <th>pages_visited</th>\n",
       "      <th>signup_date</th>\n",
       "    </tr>\n",
       "  </thead>\n",
       "  <tbody>\n",
       "    <tr>\n",
       "      <th>0</th>\n",
       "      <td>600597</td>\n",
       "      <td>2015-08-13</td>\n",
       "      <td>IE</td>\n",
       "      <td>0</td>\n",
       "      <td>2</td>\n",
       "      <td>2015-01-19</td>\n",
       "    </tr>\n",
       "    <tr>\n",
       "      <th>1</th>\n",
       "      <td>4410028</td>\n",
       "      <td>2015-08-26</td>\n",
       "      <td>Chrome</td>\n",
       "      <td>1</td>\n",
       "      <td>5</td>\n",
       "      <td>2015-05-11</td>\n",
       "    </tr>\n",
       "    <tr>\n",
       "      <th>2</th>\n",
       "      <td>6004777</td>\n",
       "      <td>2015-08-17</td>\n",
       "      <td>Chrome</td>\n",
       "      <td>0</td>\n",
       "      <td>8</td>\n",
       "      <td>2015-06-26</td>\n",
       "    </tr>\n",
       "    <tr>\n",
       "      <th>3</th>\n",
       "      <td>5990330</td>\n",
       "      <td>2015-08-27</td>\n",
       "      <td>Safari</td>\n",
       "      <td>0</td>\n",
       "      <td>8</td>\n",
       "      <td>2015-06-25</td>\n",
       "    </tr>\n",
       "    <tr>\n",
       "      <th>4</th>\n",
       "      <td>3622310</td>\n",
       "      <td>2015-08-07</td>\n",
       "      <td>Firefox</td>\n",
       "      <td>0</td>\n",
       "      <td>1</td>\n",
       "      <td>2015-04-17</td>\n",
       "    </tr>\n",
       "  </tbody>\n",
       "</table>\n",
       "</div>"
      ],
      "text/plain": [
       "   user_id       date  browser  test  pages_visited signup_date\n",
       "0   600597 2015-08-13       IE     0              2  2015-01-19\n",
       "1  4410028 2015-08-26   Chrome     1              5  2015-05-11\n",
       "2  6004777 2015-08-17   Chrome     0              8  2015-06-26\n",
       "3  5990330 2015-08-27   Safari     0              8  2015-06-25\n",
       "4  3622310 2015-08-07  Firefox     0              1  2015-04-17"
      ]
     },
     "execution_count": 28,
     "metadata": {},
     "output_type": "execute_result"
    }
   ],
   "source": [
    "data.head()"
   ]
  },
  {
   "cell_type": "code",
   "execution_count": 37,
   "metadata": {},
   "outputs": [
    {
     "data": {
      "image/png": "[encoded data removed]",
      "text/plain": [
       "<Figure size 1296x432 with 2 Axes>"
      ]
     },
     "metadata": {
      "needs_background": "light"
     },
     "output_type": "display_data"
    }
   ],
   "source": [
    "fig, ax = plt.subplots(nrows=1, ncols=2, figsize=(18, 6))\n",
    "sns.countplot(x = 'new_user',hue = 'test',data = data,ax = ax[0])\n",
    "ax[0].set_title('Count Plot of new_user', fontsize=16)\n",
    "\n",
    "sns.barplot(x = 'new_user',y = 'pages_visited',hue = 'test',data = data,ax = ax[1])\n",
    "ax[1].set_title('Bar Plot of new_user', fontsize=16)\n",
    "plt.tight_layout()\n",
    "plt.show() "
   ]
  },
  {
   "cell_type": "code",
   "execution_count": 39,
   "metadata": {},
   "outputs": [
    {
     "data": {
      "text/html": [
       "<div>\n",
       "<style scoped>\n",
       "    .dataframe tbody tr th:only-of-type {\n",
       "        vertical-align: middle;\n",
       "    }\n",
       "\n",
       "    .dataframe tbody tr th {\n",
       "        vertical-align: top;\n",
       "    }\n",
       "\n",
       "    .dataframe thead th {\n",
       "        text-align: right;\n",
       "    }\n",
       "</style>\n",
       "<table border=\"1\" class=\"dataframe\">\n",
       "  <thead>\n",
       "    <tr style=\"text-align: right;\">\n",
       "      <th></th>\n",
       "      <th>n_test</th>\n",
       "      <th>n_ctrl</th>\n",
       "      <th>sum_pages_visited_test</th>\n",
       "      <th>sum_pages_visited_ctrl</th>\n",
       "      <th>mean_test</th>\n",
       "      <th>mean_ctrl</th>\n",
       "      <th>test-ctrl</th>\n",
       "      <th>pvalue</th>\n",
       "      <th>conclusion</th>\n",
       "    </tr>\n",
       "    <tr>\n",
       "      <th>new_user</th>\n",
       "      <th></th>\n",
       "      <th></th>\n",
       "      <th></th>\n",
       "      <th></th>\n",
       "      <th></th>\n",
       "      <th></th>\n",
       "      <th></th>\n",
       "      <th></th>\n",
       "      <th></th>\n",
       "    </tr>\n",
       "  </thead>\n",
       "  <tbody>\n",
       "    <tr>\n",
       "      <th>0</th>\n",
       "      <td>40109</td>\n",
       "      <td>39890</td>\n",
       "      <td>185399</td>\n",
       "      <td>183625</td>\n",
       "      <td>4.622379</td>\n",
       "      <td>4.603284</td>\n",
       "      <td>0.019095</td>\n",
       "      <td>0.261837</td>\n",
       "      <td>Not Significant</td>\n",
       "    </tr>\n",
       "    <tr>\n",
       "      <th>1</th>\n",
       "      <td>10045</td>\n",
       "      <td>9956</td>\n",
       "      <td>45294</td>\n",
       "      <td>46085</td>\n",
       "      <td>4.509109</td>\n",
       "      <td>4.628867</td>\n",
       "      <td>-0.119758</td>\n",
       "      <td>0.001742</td>\n",
       "      <td>Significant</td>\n",
       "    </tr>\n",
       "  </tbody>\n",
       "</table>\n",
       "</div>"
      ],
      "text/plain": [
       "          n_test  n_ctrl  sum_pages_visited_test  sum_pages_visited_ctrl  \\\n",
       "new_user                                                                   \n",
       "0          40109   39890                  185399                  183625   \n",
       "1          10045    9956                   45294                   46085   \n",
       "\n",
       "          mean_test  mean_ctrl  test-ctrl    pvalue       conclusion  \n",
       "new_user                                                              \n",
       "0          4.622379   4.603284   0.019095  0.261837  Not Significant  \n",
       "1          4.509109   4.628867  -0.119758  0.001742      Significant  "
      ]
     },
     "execution_count": 39,
     "metadata": {},
     "output_type": "execute_result"
    }
   ],
   "source": [
    "data.groupby('new_user').apply(run_ttest)"
   ]
  },
  {
   "cell_type": "markdown",
   "metadata": {},
   "source": [
    "#### Results:\n",
    "\n",
    "1. For old users, the new feature improve #page_visted, but the change isn't significant\n",
    "2. for new users, this new feature significantly decreasse page_visited .\n",
    "Since I already suspect there is some bug in Opera's implementation (which reduced the visited number to 0 after using this new feature), so I need to split the dataset further by browser."
   ]
  },
  {
   "cell_type": "markdown",
   "metadata": {},
   "source": [
    "# Browser and first time user "
   ]
  },
  {
   "cell_type": "code",
   "execution_count": 40,
   "metadata": {},
   "outputs": [
    {
     "data": {
      "text/html": [
       "<div>\n",
       "<style scoped>\n",
       "    .dataframe tbody tr th:only-of-type {\n",
       "        vertical-align: middle;\n",
       "    }\n",
       "\n",
       "    .dataframe tbody tr th {\n",
       "        vertical-align: top;\n",
       "    }\n",
       "\n",
       "    .dataframe thead th {\n",
       "        text-align: right;\n",
       "    }\n",
       "</style>\n",
       "<table border=\"1\" class=\"dataframe\">\n",
       "  <thead>\n",
       "    <tr style=\"text-align: right;\">\n",
       "      <th></th>\n",
       "      <th></th>\n",
       "      <th>n_test</th>\n",
       "      <th>n_ctrl</th>\n",
       "      <th>sum_pages_visited_test</th>\n",
       "      <th>sum_pages_visited_ctrl</th>\n",
       "      <th>mean_test</th>\n",
       "      <th>mean_ctrl</th>\n",
       "      <th>test-ctrl</th>\n",
       "      <th>pvalue</th>\n",
       "      <th>conclusion</th>\n",
       "    </tr>\n",
       "    <tr>\n",
       "      <th>browser</th>\n",
       "      <th>new_user</th>\n",
       "      <th></th>\n",
       "      <th></th>\n",
       "      <th></th>\n",
       "      <th></th>\n",
       "      <th></th>\n",
       "      <th></th>\n",
       "      <th></th>\n",
       "      <th></th>\n",
       "      <th></th>\n",
       "    </tr>\n",
       "  </thead>\n",
       "  <tbody>\n",
       "    <tr>\n",
       "      <th rowspan=\"2\" valign=\"top\">Chrome</th>\n",
       "      <th>0</th>\n",
       "      <td>17525</td>\n",
       "      <td>17092</td>\n",
       "      <td>82394</td>\n",
       "      <td>78759</td>\n",
       "      <td>4.701512</td>\n",
       "      <td>4.607945</td>\n",
       "      <td>0.093567</td>\n",
       "      <td>2.290889e-04</td>\n",
       "      <td>Significant</td>\n",
       "    </tr>\n",
       "    <tr>\n",
       "      <th>1</th>\n",
       "      <td>4449</td>\n",
       "      <td>4361</td>\n",
       "      <td>20679</td>\n",
       "      <td>20211</td>\n",
       "      <td>4.648011</td>\n",
       "      <td>4.634488</td>\n",
       "      <td>0.013523</td>\n",
       "      <td>8.149175e-01</td>\n",
       "      <td>Not Significant</td>\n",
       "    </tr>\n",
       "    <tr>\n",
       "      <th rowspan=\"2\" valign=\"top\">Firefox</th>\n",
       "      <th>0</th>\n",
       "      <td>8657</td>\n",
       "      <td>8842</td>\n",
       "      <td>41184</td>\n",
       "      <td>40590</td>\n",
       "      <td>4.757306</td>\n",
       "      <td>4.590590</td>\n",
       "      <td>0.166716</td>\n",
       "      <td>3.692901e-06</td>\n",
       "      <td>Significant</td>\n",
       "    </tr>\n",
       "    <tr>\n",
       "      <th>1</th>\n",
       "      <td>2129</td>\n",
       "      <td>2130</td>\n",
       "      <td>9664</td>\n",
       "      <td>9883</td>\n",
       "      <td>4.539220</td>\n",
       "      <td>4.639906</td>\n",
       "      <td>-0.100686</td>\n",
       "      <td>2.210706e-01</td>\n",
       "      <td>Not Significant</td>\n",
       "    </tr>\n",
       "    <tr>\n",
       "      <th rowspan=\"2\" valign=\"top\">IE</th>\n",
       "      <th>0</th>\n",
       "      <td>8779</td>\n",
       "      <td>8744</td>\n",
       "      <td>41450</td>\n",
       "      <td>40140</td>\n",
       "      <td>4.721494</td>\n",
       "      <td>4.590576</td>\n",
       "      <td>0.130918</td>\n",
       "      <td>2.669847e-04</td>\n",
       "      <td>Significant</td>\n",
       "    </tr>\n",
       "    <tr>\n",
       "      <th>1</th>\n",
       "      <td>2195</td>\n",
       "      <td>2162</td>\n",
       "      <td>9974</td>\n",
       "      <td>10011</td>\n",
       "      <td>4.543964</td>\n",
       "      <td>4.630435</td>\n",
       "      <td>-0.086471</td>\n",
       "      <td>2.808421e-01</td>\n",
       "      <td>Not Significant</td>\n",
       "    </tr>\n",
       "    <tr>\n",
       "      <th rowspan=\"2\" valign=\"top\">Opera</th>\n",
       "      <th>0</th>\n",
       "      <td>833</td>\n",
       "      <td>883</td>\n",
       "      <td>0</td>\n",
       "      <td>4057</td>\n",
       "      <td>0.000000</td>\n",
       "      <td>4.594564</td>\n",
       "      <td>-4.594564</td>\n",
       "      <td>7.204927e-255</td>\n",
       "      <td>Significant</td>\n",
       "    </tr>\n",
       "    <tr>\n",
       "      <th>1</th>\n",
       "      <td>185</td>\n",
       "      <td>226</td>\n",
       "      <td>0</td>\n",
       "      <td>985</td>\n",
       "      <td>0.000000</td>\n",
       "      <td>4.358407</td>\n",
       "      <td>-4.358407</td>\n",
       "      <td>1.222949e-68</td>\n",
       "      <td>Significant</td>\n",
       "    </tr>\n",
       "    <tr>\n",
       "      <th rowspan=\"2\" valign=\"top\">Safari</th>\n",
       "      <th>0</th>\n",
       "      <td>4315</td>\n",
       "      <td>4329</td>\n",
       "      <td>20371</td>\n",
       "      <td>20079</td>\n",
       "      <td>4.720973</td>\n",
       "      <td>4.638254</td>\n",
       "      <td>0.082720</td>\n",
       "      <td>1.000829e-01</td>\n",
       "      <td>Not Significant</td>\n",
       "    </tr>\n",
       "    <tr>\n",
       "      <th>1</th>\n",
       "      <td>1087</td>\n",
       "      <td>1077</td>\n",
       "      <td>4977</td>\n",
       "      <td>4995</td>\n",
       "      <td>4.578657</td>\n",
       "      <td>4.637883</td>\n",
       "      <td>-0.059226</td>\n",
       "      <td>6.015241e-01</td>\n",
       "      <td>Not Significant</td>\n",
       "    </tr>\n",
       "  </tbody>\n",
       "</table>\n",
       "</div>"
      ],
      "text/plain": [
       "                  n_test  n_ctrl  sum_pages_visited_test  \\\n",
       "browser new_user                                           \n",
       "Chrome  0          17525   17092                   82394   \n",
       "        1           4449    4361                   20679   \n",
       "Firefox 0           8657    8842                   41184   \n",
       "        1           2129    2130                    9664   \n",
       "IE      0           8779    8744                   41450   \n",
       "        1           2195    2162                    9974   \n",
       "Opera   0            833     883                       0   \n",
       "        1            185     226                       0   \n",
       "Safari  0           4315    4329                   20371   \n",
       "        1           1087    1077                    4977   \n",
       "\n",
       "                  sum_pages_visited_ctrl  mean_test  mean_ctrl  test-ctrl  \\\n",
       "browser new_user                                                            \n",
       "Chrome  0                          78759   4.701512   4.607945   0.093567   \n",
       "        1                          20211   4.648011   4.634488   0.013523   \n",
       "Firefox 0                          40590   4.757306   4.590590   0.166716   \n",
       "        1                           9883   4.539220   4.639906  -0.100686   \n",
       "IE      0                          40140   4.721494   4.590576   0.130918   \n",
       "        1                          10011   4.543964   4.630435  -0.086471   \n",
       "Opera   0                           4057   0.000000   4.594564  -4.594564   \n",
       "        1                            985   0.000000   4.358407  -4.358407   \n",
       "Safari  0                          20079   4.720973   4.638254   0.082720   \n",
       "        1                           4995   4.578657   4.637883  -0.059226   \n",
       "\n",
       "                         pvalue       conclusion  \n",
       "browser new_user                                  \n",
       "Chrome  0          2.290889e-04      Significant  \n",
       "        1          8.149175e-01  Not Significant  \n",
       "Firefox 0          3.692901e-06      Significant  \n",
       "        1          2.210706e-01  Not Significant  \n",
       "IE      0          2.669847e-04      Significant  \n",
       "        1          2.808421e-01  Not Significant  \n",
       "Opera   0         7.204927e-255      Significant  \n",
       "        1          1.222949e-68      Significant  \n",
       "Safari  0          1.000829e-01  Not Significant  \n",
       "        1          6.015241e-01  Not Significant  "
      ]
     },
     "execution_count": 40,
     "metadata": {},
     "output_type": "execute_result"
    }
   ],
   "source": [
    "res = data.groupby(['browser','new_user']).apply(run_ttest)\n",
    "res"
   ]
  },
  {
   "cell_type": "code",
   "execution_count": 42,
   "metadata": {},
   "outputs": [
    {
     "data": {
      "text/html": [
       "<div>\n",
       "<style scoped>\n",
       "    .dataframe tbody tr th:only-of-type {\n",
       "        vertical-align: middle;\n",
       "    }\n",
       "\n",
       "    .dataframe tbody tr th {\n",
       "        vertical-align: top;\n",
       "    }\n",
       "\n",
       "    .dataframe thead th {\n",
       "        text-align: right;\n",
       "    }\n",
       "</style>\n",
       "<table border=\"1\" class=\"dataframe\">\n",
       "  <thead>\n",
       "    <tr style=\"text-align: right;\">\n",
       "      <th></th>\n",
       "      <th>n_test</th>\n",
       "      <th>n_ctrl</th>\n",
       "      <th>sum_pages_visited_test</th>\n",
       "      <th>sum_pages_visited_ctrl</th>\n",
       "      <th>mean_test</th>\n",
       "      <th>mean_ctrl</th>\n",
       "      <th>test-ctrl</th>\n",
       "      <th>pvalue</th>\n",
       "      <th>conclusion</th>\n",
       "    </tr>\n",
       "    <tr>\n",
       "      <th>browser</th>\n",
       "      <th></th>\n",
       "      <th></th>\n",
       "      <th></th>\n",
       "      <th></th>\n",
       "      <th></th>\n",
       "      <th></th>\n",
       "      <th></th>\n",
       "      <th></th>\n",
       "      <th></th>\n",
       "    </tr>\n",
       "  </thead>\n",
       "  <tbody>\n",
       "    <tr>\n",
       "      <th>Chrome</th>\n",
       "      <td>4449</td>\n",
       "      <td>4361</td>\n",
       "      <td>20679</td>\n",
       "      <td>20211</td>\n",
       "      <td>4.648011</td>\n",
       "      <td>4.634488</td>\n",
       "      <td>0.013523</td>\n",
       "      <td>8.149175e-01</td>\n",
       "      <td>Not Significant</td>\n",
       "    </tr>\n",
       "    <tr>\n",
       "      <th>Firefox</th>\n",
       "      <td>2129</td>\n",
       "      <td>2130</td>\n",
       "      <td>9664</td>\n",
       "      <td>9883</td>\n",
       "      <td>4.539220</td>\n",
       "      <td>4.639906</td>\n",
       "      <td>-0.100686</td>\n",
       "      <td>2.210706e-01</td>\n",
       "      <td>Not Significant</td>\n",
       "    </tr>\n",
       "    <tr>\n",
       "      <th>IE</th>\n",
       "      <td>2195</td>\n",
       "      <td>2162</td>\n",
       "      <td>9974</td>\n",
       "      <td>10011</td>\n",
       "      <td>4.543964</td>\n",
       "      <td>4.630435</td>\n",
       "      <td>-0.086471</td>\n",
       "      <td>2.808421e-01</td>\n",
       "      <td>Not Significant</td>\n",
       "    </tr>\n",
       "    <tr>\n",
       "      <th>Opera</th>\n",
       "      <td>185</td>\n",
       "      <td>226</td>\n",
       "      <td>0</td>\n",
       "      <td>985</td>\n",
       "      <td>0.000000</td>\n",
       "      <td>4.358407</td>\n",
       "      <td>-4.358407</td>\n",
       "      <td>1.222949e-68</td>\n",
       "      <td>Significant</td>\n",
       "    </tr>\n",
       "    <tr>\n",
       "      <th>Safari</th>\n",
       "      <td>1087</td>\n",
       "      <td>1077</td>\n",
       "      <td>4977</td>\n",
       "      <td>4995</td>\n",
       "      <td>4.578657</td>\n",
       "      <td>4.637883</td>\n",
       "      <td>-0.059226</td>\n",
       "      <td>6.015241e-01</td>\n",
       "      <td>Not Significant</td>\n",
       "    </tr>\n",
       "  </tbody>\n",
       "</table>\n",
       "</div>"
      ],
      "text/plain": [
       "         n_test  n_ctrl  sum_pages_visited_test  sum_pages_visited_ctrl  \\\n",
       "browser                                                                   \n",
       "Chrome     4449    4361                   20679                   20211   \n",
       "Firefox    2129    2130                    9664                    9883   \n",
       "IE         2195    2162                    9974                   10011   \n",
       "Opera       185     226                       0                     985   \n",
       "Safari     1087    1077                    4977                    4995   \n",
       "\n",
       "         mean_test  mean_ctrl  test-ctrl        pvalue       conclusion  \n",
       "browser                                                                  \n",
       "Chrome    4.648011   4.634488   0.013523  8.149175e-01  Not Significant  \n",
       "Firefox   4.539220   4.639906  -0.100686  2.210706e-01  Not Significant  \n",
       "IE        4.543964   4.630435  -0.086471  2.808421e-01  Not Significant  \n",
       "Opera     0.000000   4.358407  -4.358407  1.222949e-68      Significant  \n",
       "Safari    4.578657   4.637883  -0.059226  6.015241e-01  Not Significant  "
      ]
     },
     "execution_count": 42,
     "metadata": {},
     "output_type": "execute_result"
    }
   ],
   "source": [
    "# first time users on each browser\n",
    "res.xs(1,level=1)\n",
    "\n",
    "#.xs is to retrieve a cross section of the pandas dataframe or series. First argument is for index which is 0 for rows or columns 1."
   ]
  },
  {
   "cell_type": "markdown",
   "metadata": {},
   "source": [
    "#### Results:\n",
    "\n",
    "1. Besides Opera which may have a bug, all changes for new users are not significant, and there is even some drop in the number of pages visited after applying this new feature.\n",
    "\n",
    "2. This could be because: the friend recommendation engine may be based on a user's previous social activity on the site. For new users, since they don't have any previous history for recommendation engine to use, the recommendation result is like a random guess, which cannot draw new user's interest. But the recommended friends may occupy some space on the page, so it may even decrease the pages visited for new users a little bit.\n",
    "\n",
    "From this observation, I suspect the Recommedation Engine suffers ***the cold start*** problem."
   ]
  },
  {
   "cell_type": "code",
   "execution_count": null,
   "metadata": {},
   "outputs": [],
   "source": []
  }
 ],
 "metadata": {
  "kernelspec": {
   "display_name": "Python 3",
   "language": "python",
   "name": "python3"
  },
  "language_info": {
   "codemirror_mode": {
    "name": "ipython",
    "version": 3
   },
   "file_extension": ".py",
   "mimetype": "text/x-python",
   "name": "python",
   "nbconvert_exporter": "python",
   "pygments_lexer": "ipython3",
   "version": "3.8.1"
  }
 },
 "nbformat": 4,
 "nbformat_minor": 4
}
