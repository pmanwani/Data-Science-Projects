{
 "cells": [
  {
   "cell_type": "markdown",
   "metadata": {},
   "source": [
    "## Subscription Retention\n",
    "\n",
    "### Business Problem\n",
    "\n",
    "Company XYZ started a subscription model in January, 2015. You get hired as a ﬁrst data scientist at the end of August and, as a ﬁrst task, you are asked to help executives understand how the subscription model is doing.\n",
    "\n",
    "Therefore, you decide to pull data from all the users who subscribed in January and see, for each month, how many of them unsubscribed. In particular, your boss is interested in:\n",
    "\n",
    "* A model that predicts monthly retention rate for the diﬀerent subscription price points\n",
    "* Based on your model, for each price point, what percentage of users is still subscribed after at least 12 months?\n",
    "* How do user country and source aﬀect subscription retention rate? How would you use these ﬁndings to improve the company revenue?\n",
    "\n",
    "### Roadmap\n",
    "1. Load the data\n",
    "2. calculate total number by the end of each billing cycle for each 'monthly-cost'\n",
    "3. Fit Linear Regression model\n",
    "4. Predict on billing cycles from 9~12\n",
    "5. how country affects retention rate?\n",
    "6. how source affects retention rate?"
   ]
  },
  {
   "cell_type": "markdown",
   "metadata": {},
   "source": [
    "### Load Data"
   ]
  },
  {
   "cell_type": "code",
   "execution_count": 2,
   "metadata": {},
   "outputs": [],
   "source": [
    "import warnings\n",
    "warnings.simplefilter('ignore')\n",
    "\n",
    "import numpy as np\n",
    "import pandas as pd\n",
    "import seaborn as sns\n",
    "import matplotlib.pyplot as plt\n",
    "from sklearn.linear_model import LinearRegression\n",
    "\n",
    "%matplotlib inline"
   ]
  },
  {
   "cell_type": "code",
   "execution_count": 3,
   "metadata": {},
   "outputs": [
    {
     "data": {
      "text/html": [
       "<div>\n",
       "<style scoped>\n",
       "    .dataframe tbody tr th:only-of-type {\n",
       "        vertical-align: middle;\n",
       "    }\n",
       "\n",
       "    .dataframe tbody tr th {\n",
       "        vertical-align: top;\n",
       "    }\n",
       "\n",
       "    .dataframe thead th {\n",
       "        text-align: right;\n",
       "    }\n",
       "</style>\n",
       "<table border=\"1\" class=\"dataframe\">\n",
       "  <thead>\n",
       "    <tr style=\"text-align: right;\">\n",
       "      <th></th>\n",
       "      <th>user_id</th>\n",
       "      <th>subscription_signup_date</th>\n",
       "      <th>subscription_monthly_cost</th>\n",
       "      <th>country</th>\n",
       "      <th>source</th>\n",
       "      <th>billing_cycles</th>\n",
       "      <th>is_active</th>\n",
       "    </tr>\n",
       "  </thead>\n",
       "  <tbody>\n",
       "    <tr>\n",
       "      <th>0</th>\n",
       "      <td>1459</td>\n",
       "      <td>2015-01-01</td>\n",
       "      <td>29</td>\n",
       "      <td>Spain</td>\n",
       "      <td>ads</td>\n",
       "      <td>4</td>\n",
       "      <td>0</td>\n",
       "    </tr>\n",
       "    <tr>\n",
       "      <th>1</th>\n",
       "      <td>12474</td>\n",
       "      <td>2015-01-01</td>\n",
       "      <td>49</td>\n",
       "      <td>France</td>\n",
       "      <td>ads</td>\n",
       "      <td>5</td>\n",
       "      <td>0</td>\n",
       "    </tr>\n",
       "    <tr>\n",
       "      <th>2</th>\n",
       "      <td>12294</td>\n",
       "      <td>2015-01-01</td>\n",
       "      <td>49</td>\n",
       "      <td>Germany</td>\n",
       "      <td>ads</td>\n",
       "      <td>2</td>\n",
       "      <td>0</td>\n",
       "    </tr>\n",
       "    <tr>\n",
       "      <th>3</th>\n",
       "      <td>3878</td>\n",
       "      <td>2015-01-01</td>\n",
       "      <td>49</td>\n",
       "      <td>China</td>\n",
       "      <td>ads</td>\n",
       "      <td>1</td>\n",
       "      <td>0</td>\n",
       "    </tr>\n",
       "    <tr>\n",
       "      <th>4</th>\n",
       "      <td>9567</td>\n",
       "      <td>2015-01-01</td>\n",
       "      <td>49</td>\n",
       "      <td>UK</td>\n",
       "      <td>ads</td>\n",
       "      <td>5</td>\n",
       "      <td>0</td>\n",
       "    </tr>\n",
       "  </tbody>\n",
       "</table>\n",
       "</div>"
      ],
      "text/plain": [
       "   user_id subscription_signup_date  subscription_monthly_cost  country  \\\n",
       "0     1459               2015-01-01                         29    Spain   \n",
       "1    12474               2015-01-01                         49   France   \n",
       "2    12294               2015-01-01                         49  Germany   \n",
       "3     3878               2015-01-01                         49    China   \n",
       "4     9567               2015-01-01                         49       UK   \n",
       "\n",
       "  source  billing_cycles  is_active  \n",
       "0    ads               4          0  \n",
       "1    ads               5          0  \n",
       "2    ads               2          0  \n",
       "3    ads               1          0  \n",
       "4    ads               5          0  "
      ]
     },
     "execution_count": 3,
     "metadata": {},
     "output_type": "execute_result"
    }
   ],
   "source": [
    "data = pd.read_csv(\"subscription.csv\", parse_dates = ['subscription_signup_date'])\n",
    "data.head()"
   ]
  },
  {
   "cell_type": "markdown",
   "metadata": {},
   "source": [
    "We have 500,000 users in the dataset and we have 3 different price points namely: 29 dollars, 49 dollars and 99 dollars"
   ]
  },
  {
   "cell_type": "code",
   "execution_count": 4,
   "metadata": {},
   "outputs": [
    {
     "data": {
      "text/plain": [
       "(500000, 7)"
      ]
     },
     "execution_count": 4,
     "metadata": {},
     "output_type": "execute_result"
    }
   ],
   "source": [
    "data.shape"
   ]
  },
  {
   "cell_type": "code",
   "execution_count": 5,
   "metadata": {},
   "outputs": [
    {
     "data": {
      "text/plain": [
       "array([29, 49, 99])"
      ]
     },
     "execution_count": 5,
     "metadata": {},
     "output_type": "execute_result"
    }
   ],
   "source": [
    "data.subscription_monthly_cost.unique()"
   ]
  },
  {
   "cell_type": "code",
   "execution_count": 6,
   "metadata": {},
   "outputs": [
    {
     "data": {
      "text/plain": [
       "user_id                      0\n",
       "subscription_signup_date     0\n",
       "subscription_monthly_cost    0\n",
       "country                      0\n",
       "source                       0\n",
       "billing_cycles               0\n",
       "is_active                    0\n",
       "dtype: int64"
      ]
     },
     "execution_count": 6,
     "metadata": {},
     "output_type": "execute_result"
    }
   ],
   "source": [
    "data.isnull().sum()"
   ]
  },
  {
   "cell_type": "code",
   "execution_count": 7,
   "metadata": {},
   "outputs": [
    {
     "data": {
      "text/html": [
       "<div>\n",
       "<style scoped>\n",
       "    .dataframe tbody tr th:only-of-type {\n",
       "        vertical-align: middle;\n",
       "    }\n",
       "\n",
       "    .dataframe tbody tr th {\n",
       "        vertical-align: top;\n",
       "    }\n",
       "\n",
       "    .dataframe thead th {\n",
       "        text-align: right;\n",
       "    }\n",
       "</style>\n",
       "<table border=\"1\" class=\"dataframe\">\n",
       "  <thead>\n",
       "    <tr style=\"text-align: right;\">\n",
       "      <th></th>\n",
       "      <th>user_id</th>\n",
       "      <th>subscription_monthly_cost</th>\n",
       "      <th>billing_cycles</th>\n",
       "      <th>is_active</th>\n",
       "    </tr>\n",
       "  </thead>\n",
       "  <tbody>\n",
       "    <tr>\n",
       "      <th>count</th>\n",
       "      <td>500000.000000</td>\n",
       "      <td>500000.000000</td>\n",
       "      <td>500000.000000</td>\n",
       "      <td>500000.000000</td>\n",
       "    </tr>\n",
       "    <tr>\n",
       "      <th>mean</th>\n",
       "      <td>250000.500000</td>\n",
       "      <td>48.469620</td>\n",
       "      <td>2.384970</td>\n",
       "      <td>0.099998</td>\n",
       "    </tr>\n",
       "    <tr>\n",
       "      <th>std</th>\n",
       "      <td>144337.711635</td>\n",
       "      <td>19.570745</td>\n",
       "      <td>2.254952</td>\n",
       "      <td>0.299998</td>\n",
       "    </tr>\n",
       "    <tr>\n",
       "      <th>min</th>\n",
       "      <td>1.000000</td>\n",
       "      <td>29.000000</td>\n",
       "      <td>1.000000</td>\n",
       "      <td>0.000000</td>\n",
       "    </tr>\n",
       "    <tr>\n",
       "      <th>25%</th>\n",
       "      <td>125000.750000</td>\n",
       "      <td>29.000000</td>\n",
       "      <td>1.000000</td>\n",
       "      <td>0.000000</td>\n",
       "    </tr>\n",
       "    <tr>\n",
       "      <th>50%</th>\n",
       "      <td>250000.500000</td>\n",
       "      <td>49.000000</td>\n",
       "      <td>1.000000</td>\n",
       "      <td>0.000000</td>\n",
       "    </tr>\n",
       "    <tr>\n",
       "      <th>75%</th>\n",
       "      <td>375000.250000</td>\n",
       "      <td>49.000000</td>\n",
       "      <td>3.000000</td>\n",
       "      <td>0.000000</td>\n",
       "    </tr>\n",
       "    <tr>\n",
       "      <th>max</th>\n",
       "      <td>500000.000000</td>\n",
       "      <td>99.000000</td>\n",
       "      <td>8.000000</td>\n",
       "      <td>1.000000</td>\n",
       "    </tr>\n",
       "  </tbody>\n",
       "</table>\n",
       "</div>"
      ],
      "text/plain": [
       "             user_id  subscription_monthly_cost  billing_cycles      is_active\n",
       "count  500000.000000              500000.000000   500000.000000  500000.000000\n",
       "mean   250000.500000                  48.469620        2.384970       0.099998\n",
       "std    144337.711635                  19.570745        2.254952       0.299998\n",
       "min         1.000000                  29.000000        1.000000       0.000000\n",
       "25%    125000.750000                  29.000000        1.000000       0.000000\n",
       "50%    250000.500000                  49.000000        1.000000       0.000000\n",
       "75%    375000.250000                  49.000000        3.000000       0.000000\n",
       "max    500000.000000                  99.000000        8.000000       1.000000"
      ]
     },
     "execution_count": 7,
     "metadata": {},
     "output_type": "execute_result"
    }
   ],
   "source": [
    "data.describe()"
   ]
  },
  {
   "cell_type": "code",
   "execution_count": 8,
   "metadata": {},
   "outputs": [
    {
     "name": "stdout",
     "output_type": "stream",
     "text": [
      "<class 'pandas.core.frame.DataFrame'>\n",
      "RangeIndex: 500000 entries, 0 to 499999\n",
      "Data columns (total 7 columns):\n",
      " #   Column                     Non-Null Count   Dtype         \n",
      "---  ------                     --------------   -----         \n",
      " 0   user_id                    500000 non-null  int64         \n",
      " 1   subscription_signup_date   500000 non-null  datetime64[ns]\n",
      " 2   subscription_monthly_cost  500000 non-null  int64         \n",
      " 3   country                    500000 non-null  object        \n",
      " 4   source                     500000 non-null  object        \n",
      " 5   billing_cycles             500000 non-null  int64         \n",
      " 6   is_active                  500000 non-null  int64         \n",
      "dtypes: datetime64[ns](1), int64(4), object(2)\n",
      "memory usage: 26.7+ MB\n"
     ]
    }
   ],
   "source": [
    "data.info()"
   ]
  },
  {
   "cell_type": "code",
   "execution_count": 9,
   "metadata": {},
   "outputs": [
    {
     "data": {
      "text/plain": [
       "array(['ads', 'seo', 'friend_referral'], dtype=object)"
      ]
     },
     "execution_count": 9,
     "metadata": {},
     "output_type": "execute_result"
    }
   ],
   "source": [
    "data.source.unique()"
   ]
  },
  {
   "cell_type": "code",
   "execution_count": 10,
   "metadata": {},
   "outputs": [
    {
     "data": {
      "text/plain": [
       "array([0, 1])"
      ]
     },
     "execution_count": 10,
     "metadata": {},
     "output_type": "execute_result"
    }
   ],
   "source": [
    "data.is_active.unique()"
   ]
  },
  {
   "cell_type": "markdown",
   "metadata": {},
   "source": [
    "#### Calculate total number by the end of each billing cycle for each 'monthly cost'"
   ]
  },
  {
   "cell_type": "code",
   "execution_count": 17,
   "metadata": {},
   "outputs": [
    {
     "data": {
      "text/html": [
       "<div>\n",
       "<style scoped>\n",
       "    .dataframe tbody tr th:only-of-type {\n",
       "        vertical-align: middle;\n",
       "    }\n",
       "\n",
       "    .dataframe tbody tr th {\n",
       "        vertical-align: top;\n",
       "    }\n",
       "\n",
       "    .dataframe thead tr th {\n",
       "        text-align: left;\n",
       "    }\n",
       "\n",
       "    .dataframe thead tr:last-of-type th {\n",
       "        text-align: right;\n",
       "    }\n",
       "</style>\n",
       "<table border=\"1\" class=\"dataframe\">\n",
       "  <thead>\n",
       "    <tr>\n",
       "      <th></th>\n",
       "      <th colspan=\"8\" halign=\"left\">count</th>\n",
       "    </tr>\n",
       "    <tr>\n",
       "      <th>billing_cycles</th>\n",
       "      <th>1</th>\n",
       "      <th>2</th>\n",
       "      <th>3</th>\n",
       "      <th>4</th>\n",
       "      <th>5</th>\n",
       "      <th>6</th>\n",
       "      <th>7</th>\n",
       "      <th>8</th>\n",
       "    </tr>\n",
       "    <tr>\n",
       "      <th>subscription_monthly_cost</th>\n",
       "      <th></th>\n",
       "      <th></th>\n",
       "      <th></th>\n",
       "      <th></th>\n",
       "      <th></th>\n",
       "      <th></th>\n",
       "      <th></th>\n",
       "      <th></th>\n",
       "    </tr>\n",
       "  </thead>\n",
       "  <tbody>\n",
       "    <tr>\n",
       "      <th>29</th>\n",
       "      <td>57441</td>\n",
       "      <td>21818</td>\n",
       "      <td>12037</td>\n",
       "      <td>7787</td>\n",
       "      <td>5505</td>\n",
       "      <td>4136</td>\n",
       "      <td>3111</td>\n",
       "      <td>34527</td>\n",
       "    </tr>\n",
       "    <tr>\n",
       "      <th>49</th>\n",
       "      <td>185145</td>\n",
       "      <td>53296</td>\n",
       "      <td>21690</td>\n",
       "      <td>11288</td>\n",
       "      <td>6727</td>\n",
       "      <td>4405</td>\n",
       "      <td>3173</td>\n",
       "      <td>14673</td>\n",
       "    </tr>\n",
       "    <tr>\n",
       "      <th>99</th>\n",
       "      <td>44788</td>\n",
       "      <td>4724</td>\n",
       "      <td>1471</td>\n",
       "      <td>678</td>\n",
       "      <td>399</td>\n",
       "      <td>226</td>\n",
       "      <td>156</td>\n",
       "      <td>799</td>\n",
       "    </tr>\n",
       "  </tbody>\n",
       "</table>\n",
       "</div>"
      ],
      "text/plain": [
       "                            count                                         \\\n",
       "billing_cycles                  1      2      3      4     5     6     7   \n",
       "subscription_monthly_cost                                                  \n",
       "29                          57441  21818  12037   7787  5505  4136  3111   \n",
       "49                         185145  53296  21690  11288  6727  4405  3173   \n",
       "99                          44788   4724   1471    678   399   226   156   \n",
       "\n",
       "                                  \n",
       "billing_cycles                 8  \n",
       "subscription_monthly_cost         \n",
       "29                         34527  \n",
       "49                         14673  \n",
       "99                           799  "
      ]
     },
     "execution_count": 17,
     "metadata": {},
     "output_type": "execute_result"
    }
   ],
   "source": [
    "res = data.groupby(['subscription_monthly_cost','billing_cycles'])['user_id'].agg(['count'])\n",
    "pd.DataFrame(res.unstack())"
   ]
  },
  {
   "cell_type": "markdown",
   "metadata": {},
   "source": [
    "#### Calculate retention rate at the end of each billing cycle"
   ]
  },
  {
   "cell_type": "code",
   "execution_count": 11,
   "metadata": {},
   "outputs": [],
   "source": [
    "def retention_rate(df):\n",
    "    total_num = len(df)\n",
    "    rate = []\n",
    "    for i in [1, 2, 3, 4, 5, 6, 7, 8]:\n",
    "        rate.append(len(df[df['billing_cycles'] >= i]) / total_num)\n",
    "        \n",
    "    return pd.Series(rate, index=[1, 2, 3, 4, 5, 6, 7, 8])"
   ]
  },
  {
   "cell_type": "code",
   "execution_count": 12,
   "metadata": {},
   "outputs": [],
   "source": [
    "grp = data.groupby('subscription_monthly_cost').apply(retention_rate)\n"
   ]
  },
  {
   "cell_type": "code",
   "execution_count": 13,
   "metadata": {},
   "outputs": [],
   "source": [
    "grouped = grp.T"
   ]
  },
  {
   "cell_type": "code",
   "execution_count": 14,
   "metadata": {},
   "outputs": [
    {
     "data": {
      "text/html": [
       "<div>\n",
       "<style scoped>\n",
       "    .dataframe tbody tr th:only-of-type {\n",
       "        vertical-align: middle;\n",
       "    }\n",
       "\n",
       "    .dataframe tbody tr th {\n",
       "        vertical-align: top;\n",
       "    }\n",
       "\n",
       "    .dataframe thead th {\n",
       "        text-align: right;\n",
       "    }\n",
       "</style>\n",
       "<table border=\"1\" class=\"dataframe\">\n",
       "  <thead>\n",
       "    <tr style=\"text-align: right;\">\n",
       "      <th>subscription_monthly_cost</th>\n",
       "      <th>29</th>\n",
       "      <th>49</th>\n",
       "      <th>99</th>\n",
       "    </tr>\n",
       "  </thead>\n",
       "  <tbody>\n",
       "    <tr>\n",
       "      <th>1</th>\n",
       "      <td>1.000000</td>\n",
       "      <td>1.000000</td>\n",
       "      <td>1.000000</td>\n",
       "    </tr>\n",
       "    <tr>\n",
       "      <th>2</th>\n",
       "      <td>0.607542</td>\n",
       "      <td>0.383666</td>\n",
       "      <td>0.158769</td>\n",
       "    </tr>\n",
       "    <tr>\n",
       "      <th>3</th>\n",
       "      <td>0.458473</td>\n",
       "      <td>0.206247</td>\n",
       "      <td>0.070040</td>\n",
       "    </tr>\n",
       "    <tr>\n",
       "      <th>4</th>\n",
       "      <td>0.376232</td>\n",
       "      <td>0.134043</td>\n",
       "      <td>0.042411</td>\n",
       "    </tr>\n",
       "    <tr>\n",
       "      <th>5</th>\n",
       "      <td>0.323028</td>\n",
       "      <td>0.096466</td>\n",
       "      <td>0.029676</td>\n",
       "    </tr>\n",
       "    <tr>\n",
       "      <th>6</th>\n",
       "      <td>0.285416</td>\n",
       "      <td>0.074072</td>\n",
       "      <td>0.022182</td>\n",
       "    </tr>\n",
       "    <tr>\n",
       "      <th>7</th>\n",
       "      <td>0.257157</td>\n",
       "      <td>0.059408</td>\n",
       "      <td>0.017937</td>\n",
       "    </tr>\n",
       "    <tr>\n",
       "      <th>8</th>\n",
       "      <td>0.235901</td>\n",
       "      <td>0.048845</td>\n",
       "      <td>0.015007</td>\n",
       "    </tr>\n",
       "  </tbody>\n",
       "</table>\n",
       "</div>"
      ],
      "text/plain": [
       "subscription_monthly_cost        29        49        99\n",
       "1                          1.000000  1.000000  1.000000\n",
       "2                          0.607542  0.383666  0.158769\n",
       "3                          0.458473  0.206247  0.070040\n",
       "4                          0.376232  0.134043  0.042411\n",
       "5                          0.323028  0.096466  0.029676\n",
       "6                          0.285416  0.074072  0.022182\n",
       "7                          0.257157  0.059408  0.017937\n",
       "8                          0.235901  0.048845  0.015007"
      ]
     },
     "execution_count": 14,
     "metadata": {},
     "output_type": "execute_result"
    }
   ],
   "source": [
    "grouped"
   ]
  },
  {
   "cell_type": "markdown",
   "metadata": {},
   "source": [
    "#### Results\n",
    "1. For \\$29 price point, we have a retention rate of 23\\% at the end of 8 billing cycles.\n",
    "2. Similarly, we have a retention rate of 4.8\\% and 1.5\\% for price points 59 dollars and 99 dollars resp."
   ]
  },
  {
   "cell_type": "code",
   "execution_count": 16,
   "metadata": {},
   "outputs": [
    {
     "data": {
      "image/png": "[encoded data removed]",
      "text/plain": [
       "<Figure size 864x432 with 1 Axes>"
      ]
     },
     "metadata": {
      "needs_background": "light"
     },
     "output_type": "display_data"
    }
   ],
   "source": [
    "fig, ax = plt.subplots(figsize=(12, 6))\n",
    "grouped.plot(kind = 'line', ax = ax)\n",
    "ax.set_xlabel('Billing Cycle', fontsize=12)\n",
    "ax.set_ylabel('Retention Rate', fontsize=12)\n",
    "ax.grid(True)\n",
    "plt.tight_layout()\n",
    "plt.show()"
   ]
  },
  {
   "cell_type": "markdown",
   "metadata": {},
   "source": [
    "Retention rate drops a lot after 2nd month."
   ]
  },
  {
   "cell_type": "markdown",
   "metadata": {},
   "source": [
    "### Forecasting\n",
    "\n",
    "We will use ***Linear Regression Model*** to help us forecast the retention rate for the billing cycles 9,10,11 and 12. We already have retention rate at different price points for 8 billing cycles."
   ]
  },
  {
   "cell_type": "markdown",
   "metadata": {},
   "source": [
    "#### Feature Engineering for the model\n",
    "\n",
    "We will include some features to capture non-linearities in the dataset:\n",
    "1. Billing Cycles 1-8\n",
    "2. Square of Billing Cycles\n",
    "3. Log of Billing Cycles"
   ]
  },
  {
   "cell_type": "code",
   "execution_count": 17,
   "metadata": {},
   "outputs": [],
   "source": [
    "X = np.array([1,2,3,4,5,6,7,8])\n",
    "x2 = X*X\n",
    "logx = np.log(X)"
   ]
  },
  {
   "cell_type": "code",
   "execution_count": 18,
   "metadata": {},
   "outputs": [
    {
     "data": {
      "text/html": [
       "<div>\n",
       "<style scoped>\n",
       "    .dataframe tbody tr th:only-of-type {\n",
       "        vertical-align: middle;\n",
       "    }\n",
       "\n",
       "    .dataframe tbody tr th {\n",
       "        vertical-align: top;\n",
       "    }\n",
       "\n",
       "    .dataframe thead th {\n",
       "        text-align: right;\n",
       "    }\n",
       "</style>\n",
       "<table border=\"1\" class=\"dataframe\">\n",
       "  <thead>\n",
       "    <tr style=\"text-align: right;\">\n",
       "      <th></th>\n",
       "      <th>x</th>\n",
       "      <th>x2</th>\n",
       "      <th>logx</th>\n",
       "      <th>y_29</th>\n",
       "      <th>y_49</th>\n",
       "      <th>y_99</th>\n",
       "    </tr>\n",
       "  </thead>\n",
       "  <tbody>\n",
       "    <tr>\n",
       "      <th>0</th>\n",
       "      <td>1</td>\n",
       "      <td>1</td>\n",
       "      <td>0.000000</td>\n",
       "      <td>1.000000</td>\n",
       "      <td>1.000000</td>\n",
       "      <td>1.000000</td>\n",
       "    </tr>\n",
       "    <tr>\n",
       "      <th>1</th>\n",
       "      <td>2</td>\n",
       "      <td>4</td>\n",
       "      <td>0.693147</td>\n",
       "      <td>0.607542</td>\n",
       "      <td>0.383666</td>\n",
       "      <td>0.158769</td>\n",
       "    </tr>\n",
       "    <tr>\n",
       "      <th>2</th>\n",
       "      <td>3</td>\n",
       "      <td>9</td>\n",
       "      <td>1.098612</td>\n",
       "      <td>0.458473</td>\n",
       "      <td>0.206247</td>\n",
       "      <td>0.070040</td>\n",
       "    </tr>\n",
       "    <tr>\n",
       "      <th>3</th>\n",
       "      <td>4</td>\n",
       "      <td>16</td>\n",
       "      <td>1.386294</td>\n",
       "      <td>0.376232</td>\n",
       "      <td>0.134043</td>\n",
       "      <td>0.042411</td>\n",
       "    </tr>\n",
       "    <tr>\n",
       "      <th>4</th>\n",
       "      <td>5</td>\n",
       "      <td>25</td>\n",
       "      <td>1.609438</td>\n",
       "      <td>0.323028</td>\n",
       "      <td>0.096466</td>\n",
       "      <td>0.029676</td>\n",
       "    </tr>\n",
       "    <tr>\n",
       "      <th>5</th>\n",
       "      <td>6</td>\n",
       "      <td>36</td>\n",
       "      <td>1.791759</td>\n",
       "      <td>0.285416</td>\n",
       "      <td>0.074072</td>\n",
       "      <td>0.022182</td>\n",
       "    </tr>\n",
       "    <tr>\n",
       "      <th>6</th>\n",
       "      <td>7</td>\n",
       "      <td>49</td>\n",
       "      <td>1.945910</td>\n",
       "      <td>0.257157</td>\n",
       "      <td>0.059408</td>\n",
       "      <td>0.017937</td>\n",
       "    </tr>\n",
       "    <tr>\n",
       "      <th>7</th>\n",
       "      <td>8</td>\n",
       "      <td>64</td>\n",
       "      <td>2.079442</td>\n",
       "      <td>0.235901</td>\n",
       "      <td>0.048845</td>\n",
       "      <td>0.015007</td>\n",
       "    </tr>\n",
       "  </tbody>\n",
       "</table>\n",
       "</div>"
      ],
      "text/plain": [
       "   x  x2      logx      y_29      y_49      y_99\n",
       "0  1   1  0.000000  1.000000  1.000000  1.000000\n",
       "1  2   4  0.693147  0.607542  0.383666  0.158769\n",
       "2  3   9  1.098612  0.458473  0.206247  0.070040\n",
       "3  4  16  1.386294  0.376232  0.134043  0.042411\n",
       "4  5  25  1.609438  0.323028  0.096466  0.029676\n",
       "5  6  36  1.791759  0.285416  0.074072  0.022182\n",
       "6  7  49  1.945910  0.257157  0.059408  0.017937\n",
       "7  8  64  2.079442  0.235901  0.048845  0.015007"
      ]
     },
     "execution_count": 18,
     "metadata": {},
     "output_type": "execute_result"
    }
   ],
   "source": [
    "\n",
    "rate_29 = grp.loc[29].values\n",
    "rate_49 = grp.loc[49].values\n",
    "rate_99 = grp.loc[99].values\n",
    "\n",
    "features = pd.DataFrame({'x':X,'x2':x2,'logx':logx,'y_29':rate_29,'y_49':rate_49,'y_99':rate_99},\n",
    "                        columns=['x', 'x2', 'logx', 'y_29', 'y_49', 'y_99'])\n",
    "features\n",
    "    "
   ]
  },
  {
   "cell_type": "markdown",
   "metadata": {},
   "source": [
    "#### Model Building at 3 different price points\n",
    "\n",
    "Since, we have only 8 values for the features, we will not split the dataset into test and train."
   ]
  },
  {
   "cell_type": "code",
   "execution_count": 20,
   "metadata": {},
   "outputs": [],
   "source": [
    "model_29 = LinearRegression()\n",
    "model_49 = LinearRegression()\n",
    "model_99 = LinearRegression()"
   ]
  },
  {
   "cell_type": "code",
   "execution_count": 21,
   "metadata": {},
   "outputs": [],
   "source": [
    "#Fit linear regression\n",
    "model_29 = model_29.fit(features[['x','x2','logx']],np.log(features['y_29']))\n",
    "model_49 = model_49.fit(features[['x','x2','logx']],np.log(features['y_49']))\n",
    "model_99 = model_99.fit(features[['x','x2','logx']],np.log(features['y_99']))\n",
    "\n"
   ]
  },
  {
   "cell_type": "code",
   "execution_count": 22,
   "metadata": {},
   "outputs": [],
   "source": [
    "X = np.array([1,2,3,4,5,6,7,8,9,10,11,12])\n",
    "x2 = X*X\n",
    "logx = np.log(X)"
   ]
  },
  {
   "cell_type": "markdown",
   "metadata": {},
   "source": [
    "#### Model Prediction"
   ]
  },
  {
   "cell_type": "code",
   "execution_count": 23,
   "metadata": {},
   "outputs": [
    {
     "data": {
      "text/html": [
       "<div>\n",
       "<style scoped>\n",
       "    .dataframe tbody tr th:only-of-type {\n",
       "        vertical-align: middle;\n",
       "    }\n",
       "\n",
       "    .dataframe tbody tr th {\n",
       "        vertical-align: top;\n",
       "    }\n",
       "\n",
       "    .dataframe thead th {\n",
       "        text-align: right;\n",
       "    }\n",
       "</style>\n",
       "<table border=\"1\" class=\"dataframe\">\n",
       "  <thead>\n",
       "    <tr style=\"text-align: right;\">\n",
       "      <th></th>\n",
       "      <th>x</th>\n",
       "      <th>x2</th>\n",
       "      <th>logx</th>\n",
       "      <th>pred_29</th>\n",
       "      <th>pred_49</th>\n",
       "      <th>pred_99</th>\n",
       "    </tr>\n",
       "  </thead>\n",
       "  <tbody>\n",
       "    <tr>\n",
       "      <th>0</th>\n",
       "      <td>1</td>\n",
       "      <td>1</td>\n",
       "      <td>0.000000</td>\n",
       "      <td>0.999502</td>\n",
       "      <td>1.003844</td>\n",
       "      <td>0.992027</td>\n",
       "    </tr>\n",
       "    <tr>\n",
       "      <th>1</th>\n",
       "      <td>2</td>\n",
       "      <td>4</td>\n",
       "      <td>0.693147</td>\n",
       "      <td>0.608619</td>\n",
       "      <td>0.378064</td>\n",
       "      <td>0.163419</td>\n",
       "    </tr>\n",
       "    <tr>\n",
       "      <th>2</th>\n",
       "      <td>3</td>\n",
       "      <td>9</td>\n",
       "      <td>1.098612</td>\n",
       "      <td>0.458101</td>\n",
       "      <td>0.208259</td>\n",
       "      <td>0.069098</td>\n",
       "    </tr>\n",
       "    <tr>\n",
       "      <th>3</th>\n",
       "      <td>4</td>\n",
       "      <td>16</td>\n",
       "      <td>1.386294</td>\n",
       "      <td>0.375765</td>\n",
       "      <td>0.135129</td>\n",
       "      <td>0.041513</td>\n",
       "    </tr>\n",
       "    <tr>\n",
       "      <th>4</th>\n",
       "      <td>5</td>\n",
       "      <td>25</td>\n",
       "      <td>1.609438</td>\n",
       "      <td>0.322898</td>\n",
       "      <td>0.096500</td>\n",
       "      <td>0.029441</td>\n",
       "    </tr>\n",
       "    <tr>\n",
       "      <th>5</th>\n",
       "      <td>6</td>\n",
       "      <td>36</td>\n",
       "      <td>1.791759</td>\n",
       "      <td>0.285608</td>\n",
       "      <td>0.073590</td>\n",
       "      <td>0.022695</td>\n",
       "    </tr>\n",
       "    <tr>\n",
       "      <th>6</th>\n",
       "      <td>7</td>\n",
       "      <td>49</td>\n",
       "      <td>1.945910</td>\n",
       "      <td>0.257606</td>\n",
       "      <td>0.058968</td>\n",
       "      <td>0.018197</td>\n",
       "    </tr>\n",
       "    <tr>\n",
       "      <th>7</th>\n",
       "      <td>8</td>\n",
       "      <td>64</td>\n",
       "      <td>2.079442</td>\n",
       "      <td>0.235610</td>\n",
       "      <td>0.049174</td>\n",
       "      <td>0.014781</td>\n",
       "    </tr>\n",
       "    <tr>\n",
       "      <th>8</th>\n",
       "      <td>9</td>\n",
       "      <td>81</td>\n",
       "      <td>2.197225</td>\n",
       "      <td>0.217726</td>\n",
       "      <td>0.042412</td>\n",
       "      <td>0.011960</td>\n",
       "    </tr>\n",
       "    <tr>\n",
       "      <th>9</th>\n",
       "      <td>10</td>\n",
       "      <td>100</td>\n",
       "      <td>2.302585</td>\n",
       "      <td>0.202786</td>\n",
       "      <td>0.037674</td>\n",
       "      <td>0.009529</td>\n",
       "    </tr>\n",
       "    <tr>\n",
       "      <th>10</th>\n",
       "      <td>11</td>\n",
       "      <td>121</td>\n",
       "      <td>2.397895</td>\n",
       "      <td>0.190026</td>\n",
       "      <td>0.034361</td>\n",
       "      <td>0.007414</td>\n",
       "    </tr>\n",
       "    <tr>\n",
       "      <th>11</th>\n",
       "      <td>12</td>\n",
       "      <td>144</td>\n",
       "      <td>2.484907</td>\n",
       "      <td>0.178925</td>\n",
       "      <td>0.032107</td>\n",
       "      <td>0.005599</td>\n",
       "    </tr>\n",
       "  </tbody>\n",
       "</table>\n",
       "</div>"
      ],
      "text/plain": [
       "     x   x2      logx   pred_29   pred_49   pred_99\n",
       "0    1    1  0.000000  0.999502  1.003844  0.992027\n",
       "1    2    4  0.693147  0.608619  0.378064  0.163419\n",
       "2    3    9  1.098612  0.458101  0.208259  0.069098\n",
       "3    4   16  1.386294  0.375765  0.135129  0.041513\n",
       "4    5   25  1.609438  0.322898  0.096500  0.029441\n",
       "5    6   36  1.791759  0.285608  0.073590  0.022695\n",
       "6    7   49  1.945910  0.257606  0.058968  0.018197\n",
       "7    8   64  2.079442  0.235610  0.049174  0.014781\n",
       "8    9   81  2.197225  0.217726  0.042412  0.011960\n",
       "9   10  100  2.302585  0.202786  0.037674  0.009529\n",
       "10  11  121  2.397895  0.190026  0.034361  0.007414\n",
       "11  12  144  2.484907  0.178925  0.032107  0.005599"
      ]
     },
     "execution_count": 23,
     "metadata": {},
     "output_type": "execute_result"
    }
   ],
   "source": [
    "#Predict\n",
    "pred = pd.DataFrame({'x': X, 'x2': x2, 'logx': logx}, columns=['x', 'x2', 'logx'])\n",
    "pred['pred_29'] = np.exp(model_29.predict(pred[['x','x2','logx']]))\n",
    "pred['pred_49'] = np.exp(model_49.predict(pred[['x','x2','logx']]))\n",
    "pred['pred_99'] = np.exp(model_99.predict(pred[['x','x2','logx']]))\n",
    "pred"
   ]
  },
  {
   "cell_type": "markdown",
   "metadata": {},
   "source": [
    "A graph of true and predicted values suggest that our model is performing really well. The true and predicted values nearly overlaps."
   ]
  },
  {
   "cell_type": "code",
   "execution_count": 24,
   "metadata": {},
   "outputs": [
    {
     "data": {
      "image/png": "[encoded data removed]",
      "text/plain": [
       "<Figure size 864x432 with 1 Axes>"
      ]
     },
     "metadata": {
      "needs_background": "light"
     },
     "output_type": "display_data"
    }
   ],
   "source": [
    "fig, ax = plt.subplots(figsize=(12, 6))\n",
    "ax.plot(features['x'], features['y_29'], 'b:', label='Monthly cost 29 true')\n",
    "ax.plot(pred['x'], pred['pred_29'], 'r-', label='Monthly cost 29 prediction')\n",
    "ax.plot(features['x'], features['y_49'], 'k:', label='Monthly cost 49 true')\n",
    "ax.plot(pred['x'], pred['pred_49'], 'k-', label='Monthly cost 49 prediction')\n",
    "ax.plot(features['x'], features['y_99'], 'g:', label='Monthly cost 99 true')\n",
    "ax.plot(pred['x'], pred['pred_99'], 'g-', label='Monthly cost 99 prediction')\n",
    "ax.set_xlabel('Billing Cycle', fontsize=12)\n",
    "ax.set_ylabel('Retention Rate', fontsize=12)\n",
    "ax.legend(fontsize=12)\n",
    "ax.grid(True)\n",
    "plt.tight_layout()\n",
    "plt.show()"
   ]
  },
  {
   "cell_type": "markdown",
   "metadata": {},
   "source": [
    "\n",
    "#### Based on your model, for each price point, what percentage of users is still subscribed after at least 12 months?\n",
    "\n",
    "17\\% are subscribed at the end of 12 months for 29 dollars subscription plan. 3.2\\% are subscribed at 49 dollars and .05\\% are subscribed at 99 dollars."
   ]
  },
  {
   "cell_type": "code",
   "execution_count": 78,
   "metadata": {},
   "outputs": [
    {
     "data": {
      "text/html": [
       "<div>\n",
       "<style scoped>\n",
       "    .dataframe tbody tr th:only-of-type {\n",
       "        vertical-align: middle;\n",
       "    }\n",
       "\n",
       "    .dataframe tbody tr th {\n",
       "        vertical-align: top;\n",
       "    }\n",
       "\n",
       "    .dataframe thead th {\n",
       "        text-align: right;\n",
       "    }\n",
       "</style>\n",
       "<table border=\"1\" class=\"dataframe\">\n",
       "  <thead>\n",
       "    <tr style=\"text-align: right;\">\n",
       "      <th></th>\n",
       "      <th>pred_29</th>\n",
       "      <th>pred_49</th>\n",
       "      <th>pred_99</th>\n",
       "    </tr>\n",
       "  </thead>\n",
       "  <tbody>\n",
       "    <tr>\n",
       "      <th>11</th>\n",
       "      <td>0.178925</td>\n",
       "      <td>0.032107</td>\n",
       "      <td>0.005599</td>\n",
       "    </tr>\n",
       "  </tbody>\n",
       "</table>\n",
       "</div>"
      ],
      "text/plain": [
       "     pred_29   pred_49   pred_99\n",
       "11  0.178925  0.032107  0.005599"
      ]
     },
     "execution_count": 78,
     "metadata": {},
     "output_type": "execute_result"
    }
   ],
   "source": [
    "pred.iloc[[11],[3,4,5]]"
   ]
  },
  {
   "cell_type": "markdown",
   "metadata": {},
   "source": [
    "### Retention rate by country\n",
    "How do user country and source aﬀect subscription retention rate? How would you use these ﬁndings to improve the company revenue?"
   ]
  },
  {
   "cell_type": "code",
   "execution_count": 25,
   "metadata": {},
   "outputs": [
    {
     "data": {
      "text/html": [
       "<div>\n",
       "<style scoped>\n",
       "    .dataframe tbody tr th:only-of-type {\n",
       "        vertical-align: middle;\n",
       "    }\n",
       "\n",
       "    .dataframe tbody tr th {\n",
       "        vertical-align: top;\n",
       "    }\n",
       "\n",
       "    .dataframe thead th {\n",
       "        text-align: right;\n",
       "    }\n",
       "</style>\n",
       "<table border=\"1\" class=\"dataframe\">\n",
       "  <thead>\n",
       "    <tr style=\"text-align: right;\">\n",
       "      <th></th>\n",
       "      <th>1</th>\n",
       "      <th>2</th>\n",
       "      <th>3</th>\n",
       "      <th>4</th>\n",
       "      <th>5</th>\n",
       "      <th>6</th>\n",
       "      <th>7</th>\n",
       "      <th>8</th>\n",
       "    </tr>\n",
       "    <tr>\n",
       "      <th>country</th>\n",
       "      <th></th>\n",
       "      <th></th>\n",
       "      <th></th>\n",
       "      <th></th>\n",
       "      <th></th>\n",
       "      <th></th>\n",
       "      <th></th>\n",
       "      <th></th>\n",
       "    </tr>\n",
       "  </thead>\n",
       "  <tbody>\n",
       "    <tr>\n",
       "      <th>China</th>\n",
       "      <td>1.0</td>\n",
       "      <td>0.514831</td>\n",
       "      <td>0.402777</td>\n",
       "      <td>0.360426</td>\n",
       "      <td>0.336274</td>\n",
       "      <td>0.319856</td>\n",
       "      <td>0.307084</td>\n",
       "      <td>0.295453</td>\n",
       "    </tr>\n",
       "    <tr>\n",
       "      <th>France</th>\n",
       "      <td>1.0</td>\n",
       "      <td>0.334946</td>\n",
       "      <td>0.177732</td>\n",
       "      <td>0.119004</td>\n",
       "      <td>0.088479</td>\n",
       "      <td>0.069935</td>\n",
       "      <td>0.058341</td>\n",
       "      <td>0.049688</td>\n",
       "    </tr>\n",
       "    <tr>\n",
       "      <th>Germany</th>\n",
       "      <td>1.0</td>\n",
       "      <td>0.451284</td>\n",
       "      <td>0.278411</td>\n",
       "      <td>0.195910</td>\n",
       "      <td>0.146474</td>\n",
       "      <td>0.115151</td>\n",
       "      <td>0.093868</td>\n",
       "      <td>0.078465</td>\n",
       "    </tr>\n",
       "    <tr>\n",
       "      <th>India</th>\n",
       "      <td>1.0</td>\n",
       "      <td>0.446728</td>\n",
       "      <td>0.326962</td>\n",
       "      <td>0.284527</td>\n",
       "      <td>0.261603</td>\n",
       "      <td>0.246736</td>\n",
       "      <td>0.234847</td>\n",
       "      <td>0.225769</td>\n",
       "    </tr>\n",
       "    <tr>\n",
       "      <th>Italy</th>\n",
       "      <td>1.0</td>\n",
       "      <td>0.341684</td>\n",
       "      <td>0.179502</td>\n",
       "      <td>0.119914</td>\n",
       "      <td>0.090015</td>\n",
       "      <td>0.071135</td>\n",
       "      <td>0.057523</td>\n",
       "      <td>0.048695</td>\n",
       "    </tr>\n",
       "    <tr>\n",
       "      <th>Spain</th>\n",
       "      <td>1.0</td>\n",
       "      <td>0.339098</td>\n",
       "      <td>0.178985</td>\n",
       "      <td>0.119879</td>\n",
       "      <td>0.088648</td>\n",
       "      <td>0.070065</td>\n",
       "      <td>0.057617</td>\n",
       "      <td>0.048503</td>\n",
       "    </tr>\n",
       "    <tr>\n",
       "      <th>UK</th>\n",
       "      <td>1.0</td>\n",
       "      <td>0.458938</td>\n",
       "      <td>0.285133</td>\n",
       "      <td>0.198067</td>\n",
       "      <td>0.149421</td>\n",
       "      <td>0.117356</td>\n",
       "      <td>0.095735</td>\n",
       "      <td>0.079494</td>\n",
       "    </tr>\n",
       "    <tr>\n",
       "      <th>US</th>\n",
       "      <td>1.0</td>\n",
       "      <td>0.456509</td>\n",
       "      <td>0.284255</td>\n",
       "      <td>0.198853</td>\n",
       "      <td>0.149284</td>\n",
       "      <td>0.117398</td>\n",
       "      <td>0.094875</td>\n",
       "      <td>0.078981</td>\n",
       "    </tr>\n",
       "  </tbody>\n",
       "</table>\n",
       "</div>"
      ],
      "text/plain": [
       "           1         2         3         4         5         6         7  \\\n",
       "country                                                                    \n",
       "China    1.0  0.514831  0.402777  0.360426  0.336274  0.319856  0.307084   \n",
       "France   1.0  0.334946  0.177732  0.119004  0.088479  0.069935  0.058341   \n",
       "Germany  1.0  0.451284  0.278411  0.195910  0.146474  0.115151  0.093868   \n",
       "India    1.0  0.446728  0.326962  0.284527  0.261603  0.246736  0.234847   \n",
       "Italy    1.0  0.341684  0.179502  0.119914  0.090015  0.071135  0.057523   \n",
       "Spain    1.0  0.339098  0.178985  0.119879  0.088648  0.070065  0.057617   \n",
       "UK       1.0  0.458938  0.285133  0.198067  0.149421  0.117356  0.095735   \n",
       "US       1.0  0.456509  0.284255  0.198853  0.149284  0.117398  0.094875   \n",
       "\n",
       "                8  \n",
       "country            \n",
       "China    0.295453  \n",
       "France   0.049688  \n",
       "Germany  0.078465  \n",
       "India    0.225769  \n",
       "Italy    0.048695  \n",
       "Spain    0.048503  \n",
       "UK       0.079494  \n",
       "US       0.078981  "
      ]
     },
     "execution_count": 25,
     "metadata": {},
     "output_type": "execute_result"
    }
   ],
   "source": [
    "grouped_country= data.groupby(['country']).apply(retention_rate)\n",
    "grouped_country"
   ]
  },
  {
   "cell_type": "code",
   "execution_count": 26,
   "metadata": {},
   "outputs": [
    {
     "data": {
      "image/png": "[encoded data removed]",
      "text/plain": [
       "<Figure size 1080x576 with 1 Axes>"
      ]
     },
     "metadata": {
      "needs_background": "light"
     },
     "output_type": "display_data"
    }
   ],
   "source": [
    "# visualization\n",
    "fig, ax = plt.subplots(figsize=(15, 8))\n",
    "grouped_country.T.plot(kind='line', marker='o', ax=ax)\n",
    "ax.set_xlabel('Billing Cycle', fontsize=12)\n",
    "ax.set_ylabel('Retention Rate', fontsize=12)\n",
    "ax.grid(True)\n",
    "ax.legend(fontsize=16)\n",
    "plt.tight_layout()\n",
    "plt.show()"
   ]
  },
  {
   "cell_type": "code",
   "execution_count": 91,
   "metadata": {},
   "outputs": [
    {
     "data": {
      "text/html": [
       "<div>\n",
       "<style scoped>\n",
       "    .dataframe tbody tr th:only-of-type {\n",
       "        vertical-align: middle;\n",
       "    }\n",
       "\n",
       "    .dataframe tbody tr th {\n",
       "        vertical-align: top;\n",
       "    }\n",
       "\n",
       "    .dataframe thead th {\n",
       "        text-align: right;\n",
       "    }\n",
       "</style>\n",
       "<table border=\"1\" class=\"dataframe\">\n",
       "  <thead>\n",
       "    <tr style=\"text-align: right;\">\n",
       "      <th>country</th>\n",
       "      <th>China</th>\n",
       "      <th>France</th>\n",
       "      <th>Germany</th>\n",
       "      <th>India</th>\n",
       "      <th>Italy</th>\n",
       "      <th>Spain</th>\n",
       "      <th>UK</th>\n",
       "      <th>US</th>\n",
       "    </tr>\n",
       "  </thead>\n",
       "  <tbody>\n",
       "    <tr>\n",
       "      <th>8</th>\n",
       "      <td>0.295453</td>\n",
       "      <td>0.049688</td>\n",
       "      <td>0.078465</td>\n",
       "      <td>0.225769</td>\n",
       "      <td>0.048695</td>\n",
       "      <td>0.048503</td>\n",
       "      <td>0.079494</td>\n",
       "      <td>0.078981</td>\n",
       "    </tr>\n",
       "  </tbody>\n",
       "</table>\n",
       "</div>"
      ],
      "text/plain": [
       "country     China    France   Germany     India     Italy     Spain        UK  \\\n",
       "8        0.295453  0.049688  0.078465  0.225769  0.048695  0.048503  0.079494   \n",
       "\n",
       "country        US  \n",
       "8        0.078981  "
      ]
     },
     "execution_count": 91,
     "metadata": {},
     "output_type": "execute_result"
    }
   ],
   "source": [
    "grouped_country.T.iloc[-1:]"
   ]
  },
  {
   "cell_type": "markdown",
   "metadata": {},
   "source": [
    "#### Results\n",
    "\n",
    "1. Customers from India and China have the slowest churn rate. So, we should target them in a way that we can retain them for longer\n",
    "\n",
    "2. UK, US, Germany have medium 'retention rate'.\n",
    "\n",
    "3. France, Italy, Spain has the lowest 'retention rate'\n"
   ]
  },
  {
   "cell_type": "markdown",
   "metadata": {},
   "source": [
    "### Influence of Source"
   ]
  },
  {
   "cell_type": "code",
   "execution_count": 31,
   "metadata": {},
   "outputs": [
    {
     "data": {
      "text/html": [
       "<div>\n",
       "<style scoped>\n",
       "    .dataframe tbody tr th:only-of-type {\n",
       "        vertical-align: middle;\n",
       "    }\n",
       "\n",
       "    .dataframe tbody tr th {\n",
       "        vertical-align: top;\n",
       "    }\n",
       "\n",
       "    .dataframe thead th {\n",
       "        text-align: right;\n",
       "    }\n",
       "</style>\n",
       "<table border=\"1\" class=\"dataframe\">\n",
       "  <thead>\n",
       "    <tr style=\"text-align: right;\">\n",
       "      <th></th>\n",
       "      <th>1</th>\n",
       "      <th>2</th>\n",
       "      <th>3</th>\n",
       "      <th>4</th>\n",
       "      <th>5</th>\n",
       "      <th>6</th>\n",
       "      <th>7</th>\n",
       "      <th>8</th>\n",
       "    </tr>\n",
       "    <tr>\n",
       "      <th>source</th>\n",
       "      <th></th>\n",
       "      <th></th>\n",
       "      <th></th>\n",
       "      <th></th>\n",
       "      <th></th>\n",
       "      <th></th>\n",
       "      <th></th>\n",
       "      <th></th>\n",
       "    </tr>\n",
       "  </thead>\n",
       "  <tbody>\n",
       "    <tr>\n",
       "      <th>ads</th>\n",
       "      <td>1.0</td>\n",
       "      <td>0.388873</td>\n",
       "      <td>0.222094</td>\n",
       "      <td>0.152607</td>\n",
       "      <td>0.114959</td>\n",
       "      <td>0.092043</td>\n",
       "      <td>0.076756</td>\n",
       "      <td>0.066237</td>\n",
       "    </tr>\n",
       "    <tr>\n",
       "      <th>friend_referral</th>\n",
       "      <td>1.0</td>\n",
       "      <td>0.699443</td>\n",
       "      <td>0.617038</td>\n",
       "      <td>0.561282</td>\n",
       "      <td>0.519854</td>\n",
       "      <td>0.487596</td>\n",
       "      <td>0.461110</td>\n",
       "      <td>0.436507</td>\n",
       "    </tr>\n",
       "    <tr>\n",
       "      <th>seo</th>\n",
       "      <td>1.0</td>\n",
       "      <td>0.562395</td>\n",
       "      <td>0.420012</td>\n",
       "      <td>0.337594</td>\n",
       "      <td>0.286254</td>\n",
       "      <td>0.247877</td>\n",
       "      <td>0.218680</td>\n",
       "      <td>0.194475</td>\n",
       "    </tr>\n",
       "  </tbody>\n",
       "</table>\n",
       "</div>"
      ],
      "text/plain": [
       "                   1         2         3         4         5         6  \\\n",
       "source                                                                   \n",
       "ads              1.0  0.388873  0.222094  0.152607  0.114959  0.092043   \n",
       "friend_referral  1.0  0.699443  0.617038  0.561282  0.519854  0.487596   \n",
       "seo              1.0  0.562395  0.420012  0.337594  0.286254  0.247877   \n",
       "\n",
       "                        7         8  \n",
       "source                               \n",
       "ads              0.076756  0.066237  \n",
       "friend_referral  0.461110  0.436507  \n",
       "seo              0.218680  0.194475  "
      ]
     },
     "execution_count": 31,
     "metadata": {},
     "output_type": "execute_result"
    }
   ],
   "source": [
    "grouped_source= data.groupby(['source']).apply(retention_rate)\n",
    "grouped_source"
   ]
  },
  {
   "cell_type": "code",
   "execution_count": 28,
   "metadata": {},
   "outputs": [
    {
     "data": {
      "image/png": "[encoded data removed]",
      "text/plain": [
       "<Figure size 1080x576 with 1 Axes>"
      ]
     },
     "metadata": {
      "needs_background": "light"
     },
     "output_type": "display_data"
    }
   ],
   "source": [
    "# visualization\n",
    "fig, ax = plt.subplots(figsize=(15, 8))\n",
    "grouped_source.T.plot(kind='line', marker='o', ax=ax)\n",
    "ax.set_xlabel('source', fontsize=12)\n",
    "ax.set_ylabel('Retention Rate', fontsize=12)\n",
    "ax.grid(True)\n",
    "ax.legend(fontsize=16)\n",
    "plt.tight_layout()\n",
    "plt.show()"
   ]
  },
  {
   "cell_type": "markdown",
   "metadata": {},
   "source": [
    "#### Results\n",
    "\n",
    "1. We can see that subscribers from 'friend_referral' are most loyal and have the highest retentiona rate at the end of the billing cycle.\n",
    "\n",
    "2. Ads are not doing very well. Maybe, customize the ads according to the user's interests\n",
    "\n",
    "3. To improve the revenue,launch some program to improve 'user referral'. For example, current subscribers can invite new users to subscribe. If your friends subscribe, you get rewarded with a certain amount of money or credit. This could lead to more subscribers."
   ]
  }
 ],
 "metadata": {
  "kernelspec": {
   "display_name": "Python 3",
   "language": "python",
   "name": "python3"
  },
  "language_info": {
   "codemirror_mode": {
    "name": "ipython",
    "version": 3
   },
   "file_extension": ".py",
   "mimetype": "text/x-python",
   "name": "python",
   "nbconvert_exporter": "python",
   "pygments_lexer": "ipython3",
   "version": "3.8.1"
  }
 },
 "nbformat": 4,
 "nbformat_minor": 4
}
